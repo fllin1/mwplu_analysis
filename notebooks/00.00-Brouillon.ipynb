{
 "cells": [
  {
   "cell_type": "code",
   "execution_count": null,
   "metadata": {},
   "outputs": [],
   "source": [
    "import json\n",
    "\n",
    "with open(\"/mnt/mydisk/Projects/plu/references/grenoble/prompt_plu.txt\", \"r\") as f:\n",
    "    prompt_plu: str = f.read()\n",
    "    \n",
    "with open(\"/mnt/mydisk/Projects/plu/references/grenoble/prompt_oap.txt\", \"r\") as f:\n",
    "    prompt_oap: str = f.read()\n",
    "    \n",
    "with open(\"/mnt/mydisk/Projects/plu/references/grenoble/prompt_reglement_zone.txt\", \"r\") as f:\n",
    "    prompt_reglement_zone: str = f.read()\n",
    "\n",
    "prompt_json = {\n",
    "    \"prompt_plu\": prompt_plu,\n",
    "    \"prompt_oap\": prompt_oap,\n",
    "    \"prompt_reglement_zone\" : prompt_reglement_zone\n",
    "}\n",
    "\n",
    "prompt_json"
   ]
  },
  {
   "cell_type": "code",
   "execution_count": null,
   "metadata": {},
   "outputs": [],
   "source": [
    "with open(\"/mnt/mydisk/Projects/plu/config/prompts.json\", \"w\", encoding=\"utf-8\") as f:\n",
    "    json.dump(prompt_json, f, indent=4, ensure_ascii=False)"
   ]
  },
  {
   "cell_type": "markdown",
   "metadata": {},
   "source": [
    "# Récupération du texte d'un document:"
   ]
  },
  {
   "cell_type": "code",
   "execution_count": null,
   "metadata": {},
   "outputs": [],
   "source": [
    "import json\n",
    "\n",
    "def load_json_file(file_path: str) -> dict:\n",
    "    with open(file_path, \"r\", encoding=\"utf-8\") as f:\n",
    "        data = json.load(f)\n",
    "    return data\n",
    "\n",
    "def extract_markdown_text(data: dict) -> str:\n",
    "    data_filtered = []\n",
    "    for item in data[\"pages\"]:\n",
    "        text = f\"page {item['index']}:\" + item[\"markdown\"]\n",
    "        data_filtered.append(text)\n",
    "    return data_filtered"
   ]
  },
  {
   "cell_type": "code",
   "execution_count": null,
   "metadata": {},
   "outputs": [],
   "source": [
    "data_zone_urbaine = load_json_file(\"/mnt/mydisk/Projects/plu/data/raw/Grenoble/Zone Urbaines.json\")\n",
    "extract_markdown_text(data_zone_urbaine)"
   ]
  },
  {
   "cell_type": "markdown",
   "metadata": {},
   "source": [
    "# Yaml"
   ]
  },
  {
   "cell_type": "code",
   "execution_count": null,
   "metadata": {},
   "outputs": [],
   "source": [
    "import yaml\n",
    "with open(\"/mnt/mydisk/Projects/plu/config/plu_tree.yaml\", \"r\") as f:\n",
    "    tree = yaml.safe_load(f)"
   ]
  },
  {
   "cell_type": "code",
   "execution_count": null,
   "metadata": {},
   "outputs": [],
   "source": [
    "for key in tree[\"grenoble\"]:\n",
    "    print(f\"{key}\")"
   ]
  }
 ],
 "metadata": {
  "kernelspec": {
   "display_name": "Python 3",
   "language": "python",
   "name": "python3"
  },
  "language_info": {
   "codemirror_mode": {
    "name": "ipython",
    "version": 3
   },
   "file_extension": ".py",
   "mimetype": "text/x-python",
   "name": "python",
   "nbconvert_exporter": "python",
   "pygments_lexer": "ipython3",
   "version": "3.12.9"
  }
 },
 "nbformat": 4,
 "nbformat_minor": 2
}
