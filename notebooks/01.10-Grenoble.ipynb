{
 "cells": [
  {
   "cell_type": "markdown",
   "metadata": {},
   "source": [
    "# Cleaning"
   ]
  },
  {
   "cell_type": "markdown",
   "metadata": {},
   "source": [
    "## Images"
   ]
  },
  {
   "cell_type": "code",
   "execution_count": null,
   "metadata": {},
   "outputs": [],
   "source": [
    "import os\n",
    "from pathlib import Path\n",
    "\n",
    "import imagehash\n",
    "from PIL import Image"
   ]
  },
  {
   "cell_type": "code",
   "execution_count": null,
   "metadata": {},
   "outputs": [],
   "source": [
    "def get_image_hash(image_path: Path) -> str:\n",
    "    \"\"\"Get perceptual hash of an image\"\"\"\n",
    "    with Image.open(image_path) as img:\n",
    "        img_hash = imagehash.phash(img)\n",
    "    return img_hash\n",
    "\n",
    "\n",
    "def reference_images(references_dir: Path) -> dict:\n",
    "    \"\"\"Get perceptual hash of an image\"\"\"\n",
    "    img_hashes = {}\n",
    "    for img_file in os.listdir(references_dir):\n",
    "        img_path = os.path.join(references_dir, img_file)\n",
    "        img_hash = get_image_hash(img_path)\n",
    "        img_hashes[img_file] = img_hash\n",
    "    return img_hashes\n",
    "\n",
    "\n",
    "def is_similar_to_reference(references_dir: Path, image_path: Path, threshold: int = 5):\n",
    "    \"\"\"Check if an image is similar to a reference image\"\"\"\n",
    "    img_hash = get_image_hash(image_path)\n",
    "    reference_hashes = reference_images(references_dir=references_dir)\n",
    "\n",
    "    for ref_hash in reference_hashes.values():\n",
    "        hash_diff = img_hash - ref_hash\n",
    "        if hash_diff <= threshold:\n",
    "            return True\n",
    "\n",
    "    return False\n",
    "\n",
    "\n",
    "def filter_images_in_document(\n",
    "    references_dir: Path, images_dir: Path, threshold: int = 5\n",
    "):\n",
    "    \"\"\"Filter images in a directory based on similarity to reference images\"\"\"\n",
    "    for filename in os.listdir(images_dir):\n",
    "        if filename.endswith((\".png\", \".jpg\", \".jpeg\")):\n",
    "            img_path = os.path.join(images_dir, filename)\n",
    "            is_similar = is_similar_to_reference(\n",
    "                references_dir=references_dir, image_path=img_path, threshold=threshold\n",
    "            )\n",
    "            if is_similar:\n",
    "                os.remove(img_path)"
   ]
  },
  {
   "cell_type": "code",
   "execution_count": null,
   "metadata": {},
   "outputs": [],
   "source": [
    "filter_images_in_document(\n",
    "    r\"/mnt/mydisk/Projects/plu/references/images\",\n",
    "    r\"/mnt/mydisk/Projects/plu/data/raw/Grenoble/Par Zone Agricoles/images\",\n",
    "    threshold=5,\n",
    ")"
   ]
  },
  {
   "cell_type": "markdown",
   "metadata": {},
   "source": [
    "## Text"
   ]
  },
  {
   "cell_type": "code",
   "execution_count": null,
   "metadata": {},
   "outputs": [],
   "source": [
    "import multiprocessing\n",
    "import os\n",
    "import re\n",
    "\n",
    "import markdown\n",
    "import pandas as pd\n",
    "import spacy\n",
    "from IPython.display import Markdown, display\n",
    "from tqdm import tqdm\n",
    "from pathlib import Path"
   ]
  },
  {
   "cell_type": "code",
   "execution_count": null,
   "metadata": {},
   "outputs": [],
   "source": [
    "md_path = (\n",
    "    r\"/mnt/mydisk/Projects/plu/data/raw/Grenoble/Dispositions_Generales/ocr_results.md\"\n",
    ")\n",
    "img_path = r\"/mnt/mydisk/Projects/plu/data/raw/Grenoble/Dispositions_Generales/images\"\n",
    "\n",
    "with open(md_path, \"r\", encoding=\"utf-8\") as file:\n",
    "    md_content = file.read()\n",
    "\n",
    "# Open images directory\n",
    "img_files = os.listdir(img_path)\n",
    "display(Markdown(md_content))"
   ]
  }
 ],
 "metadata": {
  "language_info": {
   "name": "python"
  }
 },
 "nbformat": 4,
 "nbformat_minor": 2
}
