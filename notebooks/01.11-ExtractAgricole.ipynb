{
 "cells": [
  {
   "cell_type": "markdown",
   "metadata": {},
   "source": [
    "## Google AI\n",
    "\n",
    "*From notebook 01.02-ModelsAPI.ipynb*"
   ]
  },
  {
   "cell_type": "code",
   "execution_count": null,
   "metadata": {},
   "outputs": [],
   "source": [
    "import base64\n",
    "import os\n",
    "\n",
    "from google import genai\n",
    "from google.genai import types"
   ]
  },
  {
   "cell_type": "code",
   "execution_count": null,
   "metadata": {},
   "outputs": [],
   "source": [
    "def gemini_thinking(parts: types.Part) -> types.GenerateContentResponse:\n",
    "    \"\"\"\n",
    "    Génère une réponse du modèle Gemini et retourne la réponse brute complète\n",
    "    au lieu de l'afficher par morceaux.\n",
    "\n",
    "    Args:\n",
    "        user_message: Le message utilisateur à envoyer au modèle\n",
    "\n",
    "    Returns:\n",
    "        La réponse brute complète du modèle sous forme de chaîne de caractères\n",
    "    \"\"\"\n",
    "    client = genai.Client(\n",
    "        api_key=os.environ.get(\"GOOGLE_AI_API_KEY\"),\n",
    "    )\n",
    "\n",
    "    model = \"gemini-2.0-flash-thinking-exp-01-21\"  # \"gemini-2.5-pro-exp-03-25\"\n",
    "    contents = [\n",
    "        types.Content(\n",
    "            role=\"user\",\n",
    "            parts=parts,\n",
    "        ),\n",
    "    ]\n",
    "    generate_content_config = types.GenerateContentConfig(\n",
    "        response_mime_type=\"text/plain\",\n",
    "    )\n",
    "\n",
    "    # Au lieu de streamer la réponse, on récupère la réponse complète\n",
    "    response = client.models.generate_content(\n",
    "        model=model,\n",
    "        contents=contents,\n",
    "        config=generate_content_config,\n",
    "    )\n",
    "\n",
    "    # Retourne la réponse brute complète\n",
    "    return response\n"
   ]
  },
  {
   "cell_type": "markdown",
   "metadata": {},
   "source": [
    "## Par Zone Agricole"
   ]
  },
  {
   "cell_type": "markdown",
   "metadata": {},
   "source": [
    "### JSON Data"
   ]
  },
  {
   "cell_type": "code",
   "execution_count": null,
   "metadata": {},
   "outputs": [],
   "source": [
    "import json"
   ]
  },
  {
   "cell_type": "code",
   "execution_count": null,
   "metadata": {},
   "outputs": [],
   "source": [
    "json_path = r\"/mnt/mydisk/Projects/plu/data/raw/Grenoble/Par Zone Agricoles.json\"\n",
    "with open(json_path, \"r\", encoding=\"utf-8\") as f:\n",
    "    data = json.load(f)\n",
    "\n",
    "data.keys()"
   ]
  },
  {
   "cell_type": "code",
   "execution_count": null,
   "metadata": {},
   "outputs": [],
   "source": [
    "instruction: str = types.Part.from_text(\n",
    "    text=\"\"\"\n",
    "    Je vais te joindre un document à propos des zones agricoles de Grenoble. \n",
    "    Analyse ce document et indique les pages contenant des informations pertinentes pour chaque zone agricole.\n",
    "\n",
    "    Réponds UNIQUEMENT au format JSON structuré comme suit, SANS inclure les balises ```json et ``` autour de ta réponse:\n",
    "    {\n",
    "    \"Zone1\": [liste des numéros de pages avec informations sur la zone Zone1],\n",
    "    \"Zone2\": [liste des numéros de pages avec informations sur la zone Zone2],\n",
    "    \"Zone3\": [liste des numéros de pages avec informations sur la zone Zone3],\n",
    "    \"...\": [...],\n",
    "    \"informations_generales\": [liste des numéros de pages avec informations communes à toutes les zones]\n",
    "    }\n",
    "\n",
    "    Instructions supplémentaires:\n",
    "    1. Exclus les pages qui ne contiennent pas d'informations pertinentes (sommaires, préambules répétitifs)\n",
    "    2. Inclus uniquement les numéros de page, pas de texte explicatif\n",
    "    3. La réponse doit être convertible en JSON avec la fonction \"json.loads()\" de Python\n",
    "    \"\"\"\n",
    ")\n",
    "\n",
    "parts = [instruction]\n",
    "\n",
    "for i, page in enumerate(data.get(\"pages\")):\n",
    "    parts.append(\n",
    "        types.Part.from_text(\n",
    "            text=json.dumps(f\"PAGE {i + 1} : \" + page[\"markdown\"], ensure_ascii=False)\n",
    "        )\n",
    "    )"
   ]
  },
  {
   "cell_type": "code",
   "execution_count": null,
   "metadata": {},
   "outputs": [],
   "source": [
    "response = gemini_thinking(parts=parts)\n",
    "print(response.text)"
   ]
  },
  {
   "cell_type": "code",
   "execution_count": null,
   "metadata": {},
   "outputs": [],
   "source": [
    "donnees = json.loads(response.text)\n",
    "donnees"
   ]
  },
  {
   "cell_type": "code",
   "execution_count": null,
   "metadata": {},
   "outputs": [],
   "source": [
    "import numpy as np"
   ]
  },
  {
   "cell_type": "code",
   "execution_count": null,
   "metadata": {},
   "outputs": [],
   "source": [
    "donnees = {'ZoneA': [3, 4, 5, 7, 8, 9, 10, 11, 12, 13, 14, 15, 16, 17, 18, 19],\n",
    " 'ZoneAL': [21, 22, 23, 25, 26, 27, 28, 29, 30, 31, 32, 33, 34],\n",
    " 'ZoneN': [35, 36, 37, 39, 40, 41, 42, 43, 44, 45, 46, 47, 48, 49, 50],\n",
    " 'ZoneNL': [51, 52, 53, 55, 56, 57, 58, 59, 60, 61, 62, 63, 64, 65],\n",
    " 'informations_generales': [1, 6]}"
   ]
  },
  {
   "cell_type": "code",
   "execution_count": null,
   "metadata": {},
   "outputs": [],
   "source": [
    "np.array(data[\"pages\"])[donnees[\"ZoneA\"]]"
   ]
  }
 ],
 "metadata": {
  "kernelspec": {
   "display_name": "plu",
   "language": "python",
   "name": "python3"
  },
  "language_info": {
   "codemirror_mode": {
    "name": "ipython",
    "version": 3
   },
   "file_extension": ".py",
   "mimetype": "text/x-python",
   "name": "python",
   "nbconvert_exporter": "python",
   "pygments_lexer": "ipython3",
   "version": "3.12.9"
  }
 },
 "nbformat": 4,
 "nbformat_minor": 2
}
