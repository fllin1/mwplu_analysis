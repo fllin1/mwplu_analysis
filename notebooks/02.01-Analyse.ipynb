{
 "cells": [
  {
   "cell_type": "markdown",
   "metadata": {},
   "source": [
    "# Imports"
   ]
  },
  {
   "cell_type": "code",
   "execution_count": null,
   "metadata": {},
   "outputs": [],
   "source": [
    "import ast\n",
    "import json\n",
    "import re\n",
    "from pathlib import Path\n",
    "from typing import List, Optional, Tuple\n",
    "\n",
    "import vertexai\n",
    "from google.genai import types\n",
    "from vertexai.generative_models import (\n",
    "    Content,\n",
    "    GenerationConfig,\n",
    "    GenerationResponse,\n",
    "    GenerativeModel,\n",
    "    Part,\n",
    ")"
   ]
  },
  {
   "cell_type": "markdown",
   "metadata": {},
   "source": [
    "# Prompt Format"
   ]
  },
  {
   "cell_type": "markdown",
   "metadata": {},
   "source": [
    "## Prompts"
   ]
  },
  {
   "cell_type": "code",
   "execution_count": 46,
   "metadata": {},
   "outputs": [],
   "source": [
    "with open(\"/mnt/mydisk/Projects/plu/references/system_prompt.txt\", \"r\") as f:\n",
    "    system_prompt: str = f.read()\n",
    "with open(\"/mnt/mydisk/Projects/plu/references/user_prompt.txt\", \"r\") as f:\n",
    "    user_message: str = f.read()"
   ]
  },
  {
   "cell_type": "markdown",
   "metadata": {},
   "source": [
    "# Functions"
   ]
  },
  {
   "cell_type": "markdown",
   "metadata": {},
   "source": [
    "## Format Data"
   ]
  },
  {
   "cell_type": "code",
   "execution_count": 129,
   "metadata": {},
   "outputs": [],
   "source": [
    "def split_markdown_by_images(markdown_text: str) -> Tuple[List[str], List[str]]:\n",
    "    \"\"\"\n",
    "    Divides a markdown text into segments and image tags.\n",
    "\n",
    "    Args:\n",
    "        markdown_text: The markdown text to split.\n",
    "\n",
    "    Returns:\n",
    "        A tuple containing the segments and image tags.\n",
    "    \"\"\"\n",
    "    # Motif regex pour capturer les balises d'images markdown : ![texte alternatif](chemin_image)\n",
    "    pattern = r\"(!\\[.*?\\]\\(.*?\\))\"\n",
    "    segments = re.split(pattern=pattern, string=markdown_text)\n",
    "    image_tags = re.findall(pattern=pattern, string=markdown_text)\n",
    "    return segments, image_tags\n",
    "\n",
    "\n",
    "def extract_image_filename(image_tag: str) -> Optional[str]:\n",
    "    \"\"\"\n",
    "    Extracts the image filename from an image tag.\n",
    "\n",
    "    Args:\n",
    "        image_tag: The image tag to extract the filename from.\n",
    "\n",
    "    Returns:\n",
    "        The image filename.\n",
    "    \"\"\"\n",
    "    match = re.search(r\"\\]\\((.*?)\\)\", image_tag)\n",
    "    if match:\n",
    "        return match.group(1)\n",
    "    return None\n",
    "\n",
    "\n",
    "def get_plu_ocr_data(user_message: str, path_dir: Path) -> List[any]:\n",
    "    \"\"\"\n",
    "    Document data for the generative model.\n",
    "\n",
    "    Args:\n",
    "        user_message: The user message.\n",
    "        path_dir: The path to the directory containing the user message.\n",
    "\n",
    "    Returns:\n",
    "        The user message and the parts of the generative model.\n",
    "    \"\"\"\n",
    "    md_file = next(path_dir.glob(\"*md\"))\n",
    "    with open(md_file, \"r\") as f:\n",
    "        document_content = f.read()\n",
    "\n",
    "    # Format the user message with document content\n",
    "    # Normalize newlines instead of completely removing them\n",
    "    user_message = user_message.format(DOCUMENT_CONTENT=document_content)\n",
    "\n",
    "    segments_message, image_tags = split_markdown_by_images(user_message)\n",
    "    images_dir = path_dir / Path(\"images\")\n",
    "    final_parts: List[any] = []\n",
    "\n",
    "    for segment in segments_message:\n",
    "        if segment in image_tags:\n",
    "            try:\n",
    "                image_filename = extract_image_filename(segment)\n",
    "                if image_filename:  # Only process if we have a valid filename\n",
    "                    image_path = images_dir / Path(image_filename)\n",
    "                    with open(image_path, \"rb\") as f:\n",
    "                        image_bytes = f.read()\n",
    "                        final_parts.append(\n",
    "                            Part.from_data(data=image_bytes, mime_type=\"image/jpeg\")\n",
    "                        )\n",
    "            except FileNotFoundError:\n",
    "                continue\n",
    "        elif segment.strip():  # Only add non-empty text segments\n",
    "            final_parts.append(Part.from_text(segment))\n",
    "\n",
    "    return final_parts"
   ]
  },
  {
   "cell_type": "markdown",
   "metadata": {},
   "source": [
    "## API Call"
   ]
  },
  {
   "cell_type": "code",
   "execution_count": 254,
   "metadata": {},
   "outputs": [],
   "source": [
    "def generate_analysis(\n",
    "    user_message: str,\n",
    "    path_dir: Path,\n",
    "    system_prompt: Optional[str] = None,\n",
    ") -> GenerationResponse:\n",
    "    \"\"\"\n",
    "    Generate the analysis of the PLU document.\n",
    "    \n",
    "    Args:\n",
    "        user_message: The user message.\n",
    "        path_dir: The path to the directory containing the user message.\n",
    "        system_prompt: The system prompt.\n",
    "        \n",
    "    Returns:\n",
    "        The generation response.\n",
    "    \"\"\"\n",
    "    # Initialiser le client\n",
    "    vertexai.init(\n",
    "        project=\"analyse-plu\",\n",
    "        location=\"europe-west1\",\n",
    "    )\n",
    "\n",
    "    # Créer le modèle\n",
    "    model = GenerativeModel(\"gemini-2.0-flash-001\")\n",
    "\n",
    "    # Configuration de génération\n",
    "    generation_config = GenerationConfig(\n",
    "        temperature=1,\n",
    "        top_p=0.95,\n",
    "        max_output_tokens=8192,\n",
    "        # Les modalités de réponse\n",
    "        # response_mime_type=\"application/json\",\n",
    "        # response_schema={\n",
    "        #     \"type\": \"OBJECT\",\n",
    "        #     \"properties\": {\"response\": {\"type\": \"STRING\"}},\n",
    "        # },\n",
    "    )\n",
    "\n",
    "    # Paramètres de sécurité\n",
    "    # safety_settings = [\n",
    "    #     types.SafetySetting(category=\"HARM_CATEGORY_HATE_SPEECH\", threshold=\"OFF\"),\n",
    "    #     types.SafetySetting(\n",
    "    #         category=\"HARM_CATEGORY_DANGEROUS_CONTENT\", threshold=\"OFF\"\n",
    "    #     ),\n",
    "    #     types.SafetySetting(\n",
    "    #         category=\"HARM_CATEGORY_SEXUALLY_EXPLICIT\", threshold=\"OFF\"\n",
    "    #     ),\n",
    "    #     types.SafetySetting(category=\"HARM_CATEGORY_HARASSMENT\", threshold=\"OFF\"),\n",
    "    # ]\n",
    "\n",
    "    parts = get_plu_ocr_data(user_message=user_message, path_dir=path_dir)\n",
    "    contents = [\n",
    "        # Content(role=\"system\", parts=[Part.from_text(system_prompt)]), NOTE: Sytem prompt not supported w/ gemini-2.0-flash-001\n",
    "        Content(role=\"user\", parts=[Part.from_text(system_prompt)] + parts),\n",
    "    ]\n",
    "\n",
    "    # Générer la réponse\n",
    "    response: GenerationResponse = model.generate_content(\n",
    "        contents=contents,\n",
    "        generation_config=generation_config,\n",
    "        # safety_settings=safety_settings,\n",
    "        stream=False,\n",
    "    )\n",
    "\n",
    "    return response"
   ]
  },
  {
   "cell_type": "markdown",
   "metadata": {},
   "source": [
    "# Save"
   ]
  },
  {
   "cell_type": "code",
   "execution_count": 257,
   "metadata": {},
   "outputs": [],
   "source": [
    "def save_generation_response(response: GenerationResponse, path: Path) -> dict:\n",
    "    \"\"\"\n",
    "    Save the generation response to a file.\n",
    "\n",
    "    Args:\n",
    "        response: The generation response.\n",
    "        path: The path to save the generation response.\n",
    "    \n",
    "    Returns:\n",
    "        The generation response data.\n",
    "    \"\"\"\n",
    "    response_data = response.to_dict()\n",
    "\n",
    "    # for i, candidate in enumerate(response_data[\"candidates\"]):\n",
    "    #     content = candidate[\"content\"]\n",
    "    #     for j, part in enumerate(content[\"parts\"]):\n",
    "            # text_dict = ast.literal_eval(part.get(\"text\"))\n",
    "            # response_dict = text_dict.get(\"response\")\n",
    "            # response_data[\"candidates\"][i][\"content\"][\"parts\"][j] = response_dict\n",
    "        \n",
    "    with open(path, \"w\", encoding=\"utf-8\") as f:\n",
    "        json.dump(response_data, f, indent=4, ensure_ascii=False)\n",
    "    \n",
    "    return response_data"
   ]
  },
  {
   "cell_type": "markdown",
   "metadata": {},
   "source": [
    "# Run"
   ]
  },
  {
   "cell_type": "code",
   "execution_count": 255,
   "metadata": {},
   "outputs": [
    {
     "data": {
      "text/plain": [
       "candidates {\n",
       "  content {\n",
       "    role: \"model\"\n",
       "    parts {\n",
       "      text: \"Voici l\\'analyse du document fourni, présentée selon les instructions :\\n\\n<document_analysis>\\n**Type de document :** Règlement écrit du PLUi (Plan Local d\\'Urbanisme intercommunal), Tome 1.1 Dispositions Générales - Règles Communes, Lexique.\\n\\n**Objectif principal :** Définir les règles d\\'urbanisme applicables sur le territoire métropolitain, en complément ou à défaut des règles particulières de chaque zone, et fournir un lexique pour l\\'interprétation des termes utilisés dans le PLUi.\\n\\n**Grandes sections/thèmes :**\\n\\n1.  **Dispositions Générales :** Préambule, définitions, articulation des règles (règles communes, règlements de zone, règlements des risques et du patrimoine).\\n2.  **Chapitre 1 - Destination des constructions, usage des sols, activités et installations :**\\n    *   Article 1 : Interdictions (constructions, usages, activités).\\n    *   Article 2 : Autorisations sous conditions (constructions, usages, activités).\\n    *   Article 3 : Mixité fonctionnelle et sociale.\\n3.  **Chapitre 2 - Caractéristiques urbaines, architecturales, environnementales et paysagères :**\\n    *   Article 4 : Implantation et volumétrie des constructions.\\n    *   Article 5 : Qualité urbaine, architecturale, environnementale et paysagère.\\n    *   Article 6 : Traitement environnemental et paysager des espaces non bâtis.\\n4.  **Chapitre 3 - Équipements et réseaux :**\\n    *   Article 7 : Stationnement (véhicules motorisés et cycles).\\n    *   Article 8 : Desserte par les voies publiques et privées.\\n    *   Article 9 : Desserte par les réseaux.\\n    *   Article 10 : Énergie et performances énergétiques.\\n5.  **Lexique :** Définitions des termes utilisés dans le règlement.\\n\\n**Analyse détaillée par section/thème :**\\n\\n**1. Dispositions Générales :**\\n\\n*   **Réglementations, obligations, interdictions principales :**\\n    *   Les projets doivent être compatibles avec les orientations d\\'aménagement et de programmation (OAP) thématiques Paysage et biodiversité, Qualité de l\\'Air, et Risques et résilience.\\n    *   Les constructions existantes non conformes peuvent être transformées/étendues si les travaux améliorent la conformité ou sont sans effet sur les dispositions.\\n*   **Contraintes particulières :** Nécessité de consulter les OAP et les règlements spécifiques (risques, patrimoine) pour une insertion correcte du projet.\\n*   **Passages cruciaux :**\\n    *   \\\"Les projets doivent être compatibles avec les orientations d\\'aménagement et de programmation (OAP) thématiques Paysage et biodiversité, Qualité de l\\'Air, et Risques et résilience et le cas échéant dans les secteurs de projet avec les OAP sectorielles, qui apportent toutes des compléments pour l\\'insertion des projets dans leur environnement.\\\"\\n*   **Implications concrètes :** Vérification de la conformité aux OAP lors de la conception du projet.\\n\\n**2. Chapitre 1 - Destination des constructions, usage des sols, activités et installations :**\\n\\n*   **Réglementations, obligations, interdictions principales :**\\n    *   Article 1 : Interdiction de certaines constructions (ex: industrie dans périmètres de protection des captages éloignés de type 1). Interdiction de certains usages des sols (ex: parcs résidentiels de loisirs dans les périmètres de protection des captages). Interdiction de certaines activités et installations (ex: carrières dans l\\'ensemble des périmètres de protection des captages).\\n    *   Article 2 : Autorisations sous conditions (ex: constructions dans périmètres de captages sous réserve de ne pas aggraver la vulnérabilité, gestion des eaux usées/pluviales appropriée). Restrictions temporaires sur les constructions de plus de 40 m² dans les PAPA (Périmètres d\\'Attente de Projets d\\'Aménagement).\\n*   **Contraintes particulières :** Zones U plus permissives que zones AU, A, AL, N et NL. Importance des périmètres de protection des captages (impact fort sur les possibilités de construire/aménager). Se référer aux DUP (Déclarations d\\'Utilité Publique) relatives aux captages.\\n*   **Passages cruciaux :**\\n    *   \\\"Dans les périmètres de protection des captages, identifiés sur le document graphique B3 «Plan de prévention des pollutions»… sont interdits : [liste d\\'interdictions]\\\"\\n    *   \\\"Lorsque l\\'unité foncière où se situe le projet est couverte par un PAPA… les constructions, installations ou extensions créant plus de 40 m² de surface de plancher sont interdites pendant une durée maximum de 5 ans à compter de la création du PAPA.\\\"\\n*   **Implications concrètes :** Consultation du plan B3 et des DUP pour les projets proches des captages. Vérification de la présence d\\'un PAPA et de sa date de fin de validité.\\n\\n**3. Chapitre 2 - Caractéristiques urbaines, architecturales, environnementales et paysagères :**\\n\\n*   **Réglementations, obligations, interdictions principales :**\\n    *   Article 4 : Règles d\\'implantation par rapport aux voies/limites séparatives (avec exceptions pour réhabilitations et dépassements limités pour isolation). Respect des prescriptions de l\\'Atlas des Formes Urbaines (D1 et D2) qui prévalent sur les règles générales d\\'implantation. Emprise au sol des constructions. Coefficient d\\'emprise au sol minimum et hauteur minimum dans les périmètres d\\'intensification urbaine (document E). Hauteur des constructions (règles générales, Atlas D2).\\n    *   Article 5 : Insertion des constructions dans l\\'environnement (interdiction des buttes artificielles, terrassements dégradant le site, talus préfabriqués). Caractéristiques des clôtures (limitation de hauteur, matériaux autorisés/interdits). Prescriptions relatives au patrimoine bâti et paysager (éléments protégés, document F2).\\n    *   Article 6 : Espaces libres et plantations (se reporter aux règlements de zone). Surfaces végétalisées ou perméables (règles générales, coefficients de pondération). Maintien des continuités écologiques (protection des zones humides, préservation des berges). Gestion des eaux pluviales.\\n*   **Contraintes particulières :** Importance du site patrimonial remarquable (SPR). Consultation des Atlas D1, D2, E et F2. Règles spécifiques pour les clôtures (matériaux, hauteurs). Surfaces végétalisées minimales avec coefficients de pondération.\\n*   **Passages cruciaux :**\\n    *   \\\"Les prescriptions figurant sur l\\'Atlas des «formes urbaines : implantations et emprises»(document graphique D1) ainsi que sur l\\'Atlas des «formes urbaines : hauteurs» (document graphique D2) s\\'appliquent aux constructions (et non aux installations) et prévalent sur les règles d\\'implantation par rapport aux voies, figurant dans les règlements de zone.\\\"\\n    *   \\\"Sont interdits :… les murs de clôture pleins de plus de 1 m de haut… les clôtures composées de palissades… les clôtures végétales composées d\\'une seule espèce… \\\"\\n    *   \\\"Dans les zones humides délimitées au document graphique F2 «Plan du patrimoine bâti, paysager et écologique»:… Toute construction et installation nouvelle, usage et affectation du sol [sont interdits], à l\\'exception de ceux liés à la mise en valeur ou à l\\'entretien du milieu …\\\"\\n*   **Implications concrètes :** Étude attentive des cartes D1, D2, E et F2. Choix des matériaux de clôture et respect des hauteurs maximales. Limitation de l\\'imperméabilisation des sols et gestion des eaux pluviales sur site.\\n\\n**4. Chapitre 3 - Equipements et réseaux :**\\n\\n*   **Réglementations, obligations, interdictions principales :**\\n    *   Article 7 : Stationnement (nombre de places selon zonage H et type de construction, aménagement paysager, places PMR). Places adaptées aux personnes à mobilité réduite. Incitation à la mutualisation des aires de stationnement et autopartage. Stationnement des cycles.\\n    *   Article 8 : Caractéristiques des accès (sécurité, commodité de la circulation, accès des secours). Dimensionnement de la voirie interne (largeur, pente, hauteur libre). Restrictions dans les périmètres de protection des captages.\\n    *   Article 9 : Alimentation en eau potable, gestion des eaux usées (raccordement obligatoire en zone d\\'assainissement collectif, système individuel conforme en zone ANC). Utilisation du réseau d\\'eaux pluviales. Réseaux électriques et téléphoniques (enfouissement). Déploiement de la fibre optique.\\n    *   Article 10 : Raccordement aux réseaux de chaleur (constructions dans les périmètres de développement prioritaire). Performances énergétiques renforcées pour les constructions neuves. Production d\\'énergies renouvelables (seuil de surface de plancher).\\n*   **Contraintes particulières :** Zonage du stationnement (document H). Restrictions dans les périmètres de protection des captages (voirie, assainissement).\\n*   **Passages cruciaux :**\\n    *   \\\"Toutefois, lorsque les places sont réalisées en surface et non couvertes, au moins 30 % de la surface dédiée au stationnement (places et circulations) doit recevoir un traitement paysager… \\\"\\n    *   \\\"Dans les périmètres de protection rapprochés des captages… la création ou l\\'augmentation de gabarit de voiries… et l\\'infiltration des eaux de ruissellement issues d\\'aires imperméabilisées sont interdits.\\\"\\n    *   \\\"Toute construction nouvelle soumise à la règlementation thermique et dont la surface de plancher est supérieure ou égale à 1000 m² doit produire… au minimum 20/40 kWhEF /m² d\\'emprise au sol / an.\\\"\\n*   **Implications concrètes :** Vérification du zonage stationnement (carte H). Intégration paysagère des parkings. Obligations de raccordement aux réseaux. Production d\\'énergie renouvelable pour les grands projets.\\n\\n**5. Lexique :**\\n\\n*   **Réglementations, obligations, interdictions principales :** Le lexique fournit les définitions des termes utilisés dans le règlement, il est essentiel pour une bonne interprétation des règles.\\n*   **Contraintes particulières :** Les définitions sont opposables et doivent être utilisées pour l\\'application du règlement.\\n*   **Passages cruciaux :** L\\'ensemble du lexique est crucial pour la compréhension et l\\'application correcte du PLUi.\\n*   **Implications concrètes :** Consultation du lexique pour lever toute ambiguïté quant à l\\'interprétation des termes utilisés dans le règlement.\\n\\n</document_analysis>\\n\\n**Résumé Final :**\\n\\nLe règlement du PLUi définit les règles d\\'urbanisme applicables sur le territoire. Il impose la compatibilité des projets avec les OAP thématiques (Paysage, Air, Risques). Des interdictions et contraintes fortes s\\'appliquent dans les périmètres de protection des captages (consultation du plan B3). Les constructions de plus de 40m² dans un PAPA sont interdites pendant 5 ans. Le respect de l\\'Atlas des Formes Urbaines (D1 et D2) est obligatoire, il peut être vérifié par imagerie satellite (hauteur des constructions). Le règlement limite la hauteur et les matériaux des clôtures et impose des surfaces végétalisées minimales. Les projets doivent gérer les eaux pluviales sur site. Des normes de stationnement (zonage H) et des obligations de production d\\'énergie renouvelable (projets > 1000m²) s\\'appliquent. L\\'enfouissement des réseaux est obligatoire. Le lexique définit précisément les termes utilisés.\\n\\n\"\n",
       "    }\n",
       "  }\n",
       "  finish_reason: STOP\n",
       "  citation_metadata {\n",
       "    citations {\n",
       "      start_index: 8624\n",
       "      end_index: 8797\n",
       "      uri: \"https://www.apur.org/fr/nos-travaux/stationnement-automobile-plu-analyse-article-12-plu-un-outils-maitriser-stationnement\"\n",
       "    }\n",
       "  }\n",
       "  avg_logprobs: -0.23284118838995604\n",
       "}\n",
       "usage_metadata {\n",
       "  prompt_token_count: 45379\n",
       "  candidates_token_count: 2616\n",
       "  total_token_count: 47995\n",
       "  prompt_tokens_details {\n",
       "    modality: IMAGE\n",
       "    token_count: 6966\n",
       "  }\n",
       "  prompt_tokens_details {\n",
       "    modality: TEXT\n",
       "    token_count: 38413\n",
       "  }\n",
       "  candidates_tokens_details {\n",
       "    modality: TEXT\n",
       "    token_count: 2616\n",
       "  }\n",
       "}\n",
       "model_version: \"gemini-2.0-flash-001\"\n",
       "create_time {\n",
       "  seconds: 1742675825\n",
       "  nanos: 629961000\n",
       "}\n",
       "response_id: \"cR_fZ8m5Jvj4vdIP38G-uAk\""
      ]
     },
     "execution_count": 255,
     "metadata": {},
     "output_type": "execute_result"
    }
   ],
   "source": [
    "response = generate_analysis(\n",
    "    system_prompt=system_prompt,\n",
    "    user_message=user_message,\n",
    "    path_dir=Path(\n",
    "        \"/mnt/mydisk/Projects/plu/data/interim/Grenoble/Dispositions_Generales\"\n",
    "    ),\n",
    ")\n",
    "\n",
    "response"
   ]
  },
  {
   "cell_type": "code",
   "execution_count": 258,
   "metadata": {},
   "outputs": [
    {
     "data": {
      "text/plain": [
       "{'candidates': [{'content': {'role': 'model',\n",
       "    'parts': [{'text': 'Voici l\\'analyse du document fourni, présentée selon les instructions :\\n\\n<document_analysis>\\n**Type de document :** Règlement écrit du PLUi (Plan Local d\\'Urbanisme intercommunal), Tome 1.1 Dispositions Générales - Règles Communes, Lexique.\\n\\n**Objectif principal :** Définir les règles d\\'urbanisme applicables sur le territoire métropolitain, en complément ou à défaut des règles particulières de chaque zone, et fournir un lexique pour l\\'interprétation des termes utilisés dans le PLUi.\\n\\n**Grandes sections/thèmes :**\\n\\n1.  **Dispositions Générales :** Préambule, définitions, articulation des règles (règles communes, règlements de zone, règlements des risques et du patrimoine).\\n2.  **Chapitre 1 - Destination des constructions, usage des sols, activités et installations :**\\n    *   Article 1 : Interdictions (constructions, usages, activités).\\n    *   Article 2 : Autorisations sous conditions (constructions, usages, activités).\\n    *   Article 3 : Mixité fonctionnelle et sociale.\\n3.  **Chapitre 2 - Caractéristiques urbaines, architecturales, environnementales et paysagères :**\\n    *   Article 4 : Implantation et volumétrie des constructions.\\n    *   Article 5 : Qualité urbaine, architecturale, environnementale et paysagère.\\n    *   Article 6 : Traitement environnemental et paysager des espaces non bâtis.\\n4.  **Chapitre 3 - Équipements et réseaux :**\\n    *   Article 7 : Stationnement (véhicules motorisés et cycles).\\n    *   Article 8 : Desserte par les voies publiques et privées.\\n    *   Article 9 : Desserte par les réseaux.\\n    *   Article 10 : Énergie et performances énergétiques.\\n5.  **Lexique :** Définitions des termes utilisés dans le règlement.\\n\\n**Analyse détaillée par section/thème :**\\n\\n**1. Dispositions Générales :**\\n\\n*   **Réglementations, obligations, interdictions principales :**\\n    *   Les projets doivent être compatibles avec les orientations d\\'aménagement et de programmation (OAP) thématiques Paysage et biodiversité, Qualité de l\\'Air, et Risques et résilience.\\n    *   Les constructions existantes non conformes peuvent être transformées/étendues si les travaux améliorent la conformité ou sont sans effet sur les dispositions.\\n*   **Contraintes particulières :** Nécessité de consulter les OAP et les règlements spécifiques (risques, patrimoine) pour une insertion correcte du projet.\\n*   **Passages cruciaux :**\\n    *   \"Les projets doivent être compatibles avec les orientations d\\'aménagement et de programmation (OAP) thématiques Paysage et biodiversité, Qualité de l\\'Air, et Risques et résilience et le cas échéant dans les secteurs de projet avec les OAP sectorielles, qui apportent toutes des compléments pour l\\'insertion des projets dans leur environnement.\"\\n*   **Implications concrètes :** Vérification de la conformité aux OAP lors de la conception du projet.\\n\\n**2. Chapitre 1 - Destination des constructions, usage des sols, activités et installations :**\\n\\n*   **Réglementations, obligations, interdictions principales :**\\n    *   Article 1 : Interdiction de certaines constructions (ex: industrie dans périmètres de protection des captages éloignés de type 1). Interdiction de certains usages des sols (ex: parcs résidentiels de loisirs dans les périmètres de protection des captages). Interdiction de certaines activités et installations (ex: carrières dans l\\'ensemble des périmètres de protection des captages).\\n    *   Article 2 : Autorisations sous conditions (ex: constructions dans périmètres de captages sous réserve de ne pas aggraver la vulnérabilité, gestion des eaux usées/pluviales appropriée). Restrictions temporaires sur les constructions de plus de 40 m² dans les PAPA (Périmètres d\\'Attente de Projets d\\'Aménagement).\\n*   **Contraintes particulières :** Zones U plus permissives que zones AU, A, AL, N et NL. Importance des périmètres de protection des captages (impact fort sur les possibilités de construire/aménager). Se référer aux DUP (Déclarations d\\'Utilité Publique) relatives aux captages.\\n*   **Passages cruciaux :**\\n    *   \"Dans les périmètres de protection des captages, identifiés sur le document graphique B3 «Plan de prévention des pollutions»… sont interdits : [liste d\\'interdictions]\"\\n    *   \"Lorsque l\\'unité foncière où se situe le projet est couverte par un PAPA… les constructions, installations ou extensions créant plus de 40 m² de surface de plancher sont interdites pendant une durée maximum de 5 ans à compter de la création du PAPA.\"\\n*   **Implications concrètes :** Consultation du plan B3 et des DUP pour les projets proches des captages. Vérification de la présence d\\'un PAPA et de sa date de fin de validité.\\n\\n**3. Chapitre 2 - Caractéristiques urbaines, architecturales, environnementales et paysagères :**\\n\\n*   **Réglementations, obligations, interdictions principales :**\\n    *   Article 4 : Règles d\\'implantation par rapport aux voies/limites séparatives (avec exceptions pour réhabilitations et dépassements limités pour isolation). Respect des prescriptions de l\\'Atlas des Formes Urbaines (D1 et D2) qui prévalent sur les règles générales d\\'implantation. Emprise au sol des constructions. Coefficient d\\'emprise au sol minimum et hauteur minimum dans les périmètres d\\'intensification urbaine (document E). Hauteur des constructions (règles générales, Atlas D2).\\n    *   Article 5 : Insertion des constructions dans l\\'environnement (interdiction des buttes artificielles, terrassements dégradant le site, talus préfabriqués). Caractéristiques des clôtures (limitation de hauteur, matériaux autorisés/interdits). Prescriptions relatives au patrimoine bâti et paysager (éléments protégés, document F2).\\n    *   Article 6 : Espaces libres et plantations (se reporter aux règlements de zone). Surfaces végétalisées ou perméables (règles générales, coefficients de pondération). Maintien des continuités écologiques (protection des zones humides, préservation des berges). Gestion des eaux pluviales.\\n*   **Contraintes particulières :** Importance du site patrimonial remarquable (SPR). Consultation des Atlas D1, D2, E et F2. Règles spécifiques pour les clôtures (matériaux, hauteurs). Surfaces végétalisées minimales avec coefficients de pondération.\\n*   **Passages cruciaux :**\\n    *   \"Les prescriptions figurant sur l\\'Atlas des «formes urbaines : implantations et emprises»(document graphique D1) ainsi que sur l\\'Atlas des «formes urbaines : hauteurs» (document graphique D2) s\\'appliquent aux constructions (et non aux installations) et prévalent sur les règles d\\'implantation par rapport aux voies, figurant dans les règlements de zone.\"\\n    *   \"Sont interdits :… les murs de clôture pleins de plus de 1 m de haut… les clôtures composées de palissades… les clôtures végétales composées d\\'une seule espèce… \"\\n    *   \"Dans les zones humides délimitées au document graphique F2 «Plan du patrimoine bâti, paysager et écologique»:… Toute construction et installation nouvelle, usage et affectation du sol [sont interdits], à l\\'exception de ceux liés à la mise en valeur ou à l\\'entretien du milieu …\"\\n*   **Implications concrètes :** Étude attentive des cartes D1, D2, E et F2. Choix des matériaux de clôture et respect des hauteurs maximales. Limitation de l\\'imperméabilisation des sols et gestion des eaux pluviales sur site.\\n\\n**4. Chapitre 3 - Equipements et réseaux :**\\n\\n*   **Réglementations, obligations, interdictions principales :**\\n    *   Article 7 : Stationnement (nombre de places selon zonage H et type de construction, aménagement paysager, places PMR). Places adaptées aux personnes à mobilité réduite. Incitation à la mutualisation des aires de stationnement et autopartage. Stationnement des cycles.\\n    *   Article 8 : Caractéristiques des accès (sécurité, commodité de la circulation, accès des secours). Dimensionnement de la voirie interne (largeur, pente, hauteur libre). Restrictions dans les périmètres de protection des captages.\\n    *   Article 9 : Alimentation en eau potable, gestion des eaux usées (raccordement obligatoire en zone d\\'assainissement collectif, système individuel conforme en zone ANC). Utilisation du réseau d\\'eaux pluviales. Réseaux électriques et téléphoniques (enfouissement). Déploiement de la fibre optique.\\n    *   Article 10 : Raccordement aux réseaux de chaleur (constructions dans les périmètres de développement prioritaire). Performances énergétiques renforcées pour les constructions neuves. Production d\\'énergies renouvelables (seuil de surface de plancher).\\n*   **Contraintes particulières :** Zonage du stationnement (document H). Restrictions dans les périmètres de protection des captages (voirie, assainissement).\\n*   **Passages cruciaux :**\\n    *   \"Toutefois, lorsque les places sont réalisées en surface et non couvertes, au moins 30 % de la surface dédiée au stationnement (places et circulations) doit recevoir un traitement paysager… \"\\n    *   \"Dans les périmètres de protection rapprochés des captages… la création ou l\\'augmentation de gabarit de voiries… et l\\'infiltration des eaux de ruissellement issues d\\'aires imperméabilisées sont interdits.\"\\n    *   \"Toute construction nouvelle soumise à la règlementation thermique et dont la surface de plancher est supérieure ou égale à 1000 m² doit produire… au minimum 20/40 kWhEF /m² d\\'emprise au sol / an.\"\\n*   **Implications concrètes :** Vérification du zonage stationnement (carte H). Intégration paysagère des parkings. Obligations de raccordement aux réseaux. Production d\\'énergie renouvelable pour les grands projets.\\n\\n**5. Lexique :**\\n\\n*   **Réglementations, obligations, interdictions principales :** Le lexique fournit les définitions des termes utilisés dans le règlement, il est essentiel pour une bonne interprétation des règles.\\n*   **Contraintes particulières :** Les définitions sont opposables et doivent être utilisées pour l\\'application du règlement.\\n*   **Passages cruciaux :** L\\'ensemble du lexique est crucial pour la compréhension et l\\'application correcte du PLUi.\\n*   **Implications concrètes :** Consultation du lexique pour lever toute ambiguïté quant à l\\'interprétation des termes utilisés dans le règlement.\\n\\n</document_analysis>\\n\\n**Résumé Final :**\\n\\nLe règlement du PLUi définit les règles d\\'urbanisme applicables sur le territoire. Il impose la compatibilité des projets avec les OAP thématiques (Paysage, Air, Risques). Des interdictions et contraintes fortes s\\'appliquent dans les périmètres de protection des captages (consultation du plan B3). Les constructions de plus de 40m² dans un PAPA sont interdites pendant 5 ans. Le respect de l\\'Atlas des Formes Urbaines (D1 et D2) est obligatoire, il peut être vérifié par imagerie satellite (hauteur des constructions). Le règlement limite la hauteur et les matériaux des clôtures et impose des surfaces végétalisées minimales. Les projets doivent gérer les eaux pluviales sur site. Des normes de stationnement (zonage H) et des obligations de production d\\'énergie renouvelable (projets > 1000m²) s\\'appliquent. L\\'enfouissement des réseaux est obligatoire. Le lexique définit précisément les termes utilisés.\\n\\n'}]},\n",
       "   'finish_reason': 'STOP',\n",
       "   'citation_metadata': {'citations': [{'start_index': 8624,\n",
       "      'end_index': 8797,\n",
       "      'uri': 'https://www.apur.org/fr/nos-travaux/stationnement-automobile-plu-analyse-article-12-plu-un-outils-maitriser-stationnement'}]},\n",
       "   'avg_logprobs': -0.23284118838995604}],\n",
       " 'usage_metadata': {'prompt_token_count': 45379,\n",
       "  'candidates_token_count': 2616,\n",
       "  'total_token_count': 47995,\n",
       "  'prompt_tokens_details': [{'modality': 'IMAGE', 'token_count': 6966},\n",
       "   {'modality': 'TEXT', 'token_count': 38413}],\n",
       "  'candidates_tokens_details': [{'modality': 'TEXT', 'token_count': 2616}]},\n",
       " 'model_version': 'gemini-2.0-flash-001',\n",
       " 'create_time': '2025-03-22T20:37:05.629961Z',\n",
       " 'response_id': 'cR_fZ8m5Jvj4vdIP38G-uAk'}"
      ]
     },
     "execution_count": 258,
     "metadata": {},
     "output_type": "execute_result"
    }
   ],
   "source": [
    "save_generation_response(response, Path(\"/mnt/mydisk/Projects/plu/data/processed/response_text.json\"))"
   ]
  },
  {
   "cell_type": "code",
   "execution_count": 232,
   "metadata": {},
   "outputs": [
    {
     "data": {
      "text/plain": [
       "'{\\n  \"response\": \"{\\\\\"document_analysis\\\\\": \\\\\"Ce document est un extrait du règlement écrit du Plan Local d\\'Urbanisme intercommunal (PLUi) de Grenoble-Alpes Métropole. Il définit les règles générales et les dispositions applicables aux constructions, usages des sols, activités et installations dans les différentes zones du PLUi. L\\'objectif principal est de réguler l\\'aménagement du territoire en encadrant les constructions, en préservant l\\'environnement et le patrimoine, et en favorisant la mixité sociale et fonctionnelle. Le document se divise en plusieurs chapitres, traitant des destinations des constructions, des caractéristiques urbaines, architecturales, environnementales et paysagères, des équipements et réseaux, de l\\'énergie et des performances énergétiques, ainsi que d\\'un lexique définissant les termes employés. \\\\n\\\\n**Chapitre 1 : Destination des constructions, usage des sols, activités et installations, mixité fonctionnelle et sociale**\\\\n\\\\n*   **Article 1 : Interdictions :** Dans les périmètres de protection des captages d\\'eau, certaines constructions, usages et activités sont interdits, notamment les constructions destinées au logement, au commerce et aux activités de services dans les périmètres rapprochés, ainsi que les carrières dans l\\'ensemble des périmètres. Les affouillements et exhaussements du sol sont interdits dans les périmètres immédiats, sauf pour l\\'exploitation des captages. \\\\\\\\\\\\\"Dans les périmètres immédiats : Toutes les constructions à l\\'exception des locaux techniques et industriels des administrations publiques et assimilés, (qui sont autorisés sous condition, cf art 2.1).\\\\\\\\\\\\\"\\\\n\\\\n*   **Article 2 : Autorisations sous conditions :** Des constructions, usages et activités sont autorisés sous conditions, notamment dans les périmètres de protection des captages, sous réserve de ne pas aggraver la vulnérabilité des captages et d\\'une gestion appropriée des eaux usées et pluviales. Les constructions, installations ou extensions créant plus de 40 m² de surface de plancher sont interdites pendant 5 ans maximum dans les périmètres d\\'attente de projets d\\'aménagement (PAPA). \\\\\\\\\\\\\"Lorsque l\\'unité foncière où se situe le projet est couverte par un PAPA (périmètre d\\'attente d\\'un projet d\\'aménagement), délimité sur le document graphique G «Plan des OAP et secteurs de projet », les constructions, installations ou extensions créant plus de 40 m² de surface de plancher sont interdites pendant une durée maximum de 5 ans à compter de la création du PAPA.\\\\\\\\\\\\\"\\\\n\\\\n*   **Article 3 : Mixité fonctionnelle et sociale :** Le long des linéaires de mixité commerciale (L1 et L2), les rez-de-chaussée doivent être dédiés à l\\'artisanat, au commerce de détail, à la restauration ou aux activités de services. Le long des linéaires de mixité fonctionnelle (L3), les logements et le stationnement sont interdits en rez-de-chaussée. Des règles spécifiques s\\'appliquent pour favoriser la mixité sociale, notamment dans les secteurs de mixité sociale (SMS) et les emplacements réservés pour l\\'habitat (ERS), avec des seuils de déclenchement et des taux minimaux de logements sociaux. \\\\\\\\\\\\\"Dans les secteurs de mixité sociale des communes déficitaires, une part minimale globale de PLUS et PLAI est systématiquement exigée, ainsi qu\\'une part minimale de PLAI.\\\\\\\\\\\\\"\\\\n\\\\n**Chapitre 2 : Caractéristiques urbaines, architecturales, environnementales et paysagères**\\\\n\\\\n*   **Article 4 : Implantation et volumétrie des constructions :** Les constructions doivent respecter les règles d\\'implantation par rapport aux voies, emprises publiques et limites séparatives, sauf dispositions contraires du règlement des zones ou du plan masse. Des saillies sont autorisées sous certaines conditions. Les piscines doivent être implantées à une distance minimale de 3 m des limites séparatives. L\\'implantation et la hauteur des constructions peuvent être prescrites par l\\'Atlas des formes urbaines (documents graphiques D1 et D2). \\\\\\\\\\\\\"Une implantation autre que celle prévue par la règle générale ou par le document graphique D1 «Atlas des formes urbaines : implantations et emprises » peut être admise ou imposée pour assurer la conformité de la construction avec les prescriptions réglementaires d\\'un plan de prévention des risques ou prendre en compte les cartes d\\'aléas ou pour réduire l\\'exposition du projet par rapport aux risques naturels.\\\\\\\\\\\\\"\\\\n\\\\n*   **Article 5 : Qualité urbaine, architecturale, environnementale et paysagère :** Les constructions doivent s\\'insérer dans leur environnement, en adaptant leur implantation au terrain naturel et en évitant les buttes artificielles. Les clôtures doivent être conçues de manière à maintenir le caractère ouvert des espaces et à favoriser le passage de la petite faune. Les murs de soutènement doivent être adaptés au contexte urbain et paysager, et végétalisés dans la mesure du possible. \\\\\\\\\\\\\"Les clôtures doivent être conçues de façon à ménager l\\'intimité au sein des parcelles tout en maintenant le caractère ouvert des espaces.\\\\\\\\\\\\\"\\\\n\\\\n*   **Article 6 : Traitement environnemental et paysager :** Des espaces libres et des plantations sont obligatoires, conformément aux dispositions des règlements de zone. Les surfaces végétalisées ou perméables doivent être réalisées en tenant compte de coefficients de pondération. Les zones humides et les berges des cours d\\'eau doivent être protégées. La gestion des eaux pluviales doit être privilégiée sur le terrain d\\'assiette du projet. \\\\\\\\\\\\\"Pour tout espace de pleine terre d\\'une surface supérieure ou égale à 100 m², au moins un arbre de haute tige, sera planté par tranche de 100 m² de pleine terre, en se référant aux modalités de plantation et au choix des essences présentées dans l\\'OAP Paysage et Biodiversité.\\\\\\\\\\\\\"\\\\n\\\\n**Chapitre 3 : Équipements et réseaux**\\\\n\\\\n*   **Article 7 : Stationnement :** Le nombre de places de stationnement à réaliser dépend de la localisation du projet (zonage stationnement) et de sa destination. Des dispositions particulières s\\'appliquent pour les opérations d\\'aménagement d\\'ensemble, les commerces soumis à autorisation commerciale, et la mutualisation des aires de stationnement. Le stationnement des cycles est également réglementé. \\\\\\\\\\\\\"Lorsque le projet prévoit la réalisation de stationnement pour véhicules légers en extérieur d\\'une surface supérieure à 1000 m² en une seule ou plusieurs aires (places hors circulations), il doit être prévu la production d\\'au moins 50 kWhef par m² de surface de stationnement (places véhicules légers hors circulations) et par an.\\\\\\\\\\\\\"\\\\n\\\\n*   **Article 8 : Desserte par les voies publiques et privées :** Les accès doivent être adaptés à l\\'importance et à la destination des constructions, en tenant compte de la sécurité et de la commodité de la circulation. La voirie interne doit permettre la circulation des véhicules de secours et de services. \\\\\\\\\\\\\"Pour toute nouvelle opération d\\'aménagement, la voirie interne doit présenter des caractéristiques adaptées à l\\'importance et à la destination des constructions à desservir.\\\\\\\\\\\\\"\\\\n\\\\n*   **Article 9 : Desserte par les réseaux :** Les constructions doivent être raccordées aux réseaux d\\'eau potable, d\\'assainissement, d\\'électricité, de téléphone et de fibre optique. La gestion des eaux usées et pluviales doit être conforme à la réglementation en vigueur. \\\\\\\\\\\\\"Les eaux pluviales doivent être gérées sur le terrain d\\'assiette du projet par tout dispositif approprié (noues, toitures végétalisées, tranchées infiltrantes etc.).\\\\\\\\\\\\\"\\\\n\\\\n*   **Article 10 : Énergie et performances énergétiques :** Les constructions nouvelles doivent respecter des performances énergétiques renforcées par rapport à la réglementation thermique de 2012. La production d\\'énergies renouvelables est obligatoire pour les constructions de plus de 1000 m² de surface de plancher. Des règles spécifiques s\\'appliquent pour la rénovation et la réhabilitation des bâtiments existants. \\\\\\\\\\\\\"Toute construction nouvelle soumise à la règlementation thermique et dont la surface de plancher est supérieure ou égale à 1000 m² doit produire, qu\\'elle soit située ou non dans le périmètre de classement des réseaux de chaleur : au minimum 20 kWhEF/m² d\\'emprise au sol / an, pour les immeubles à vocation dominante d\\'habitat, les commerces et les équipements publics (hors bureaux) et tout autre bâtiment soumis à la règlementation thermique ; au minimum 40 kWhEF/m² d\\'emprise au sol / an, pour les immeubles à vocation dominante de bureaux, y compris des administrations.\\\\\\\\\\\\\"\\\\n\\\\n\\\\n**Lexique :**\\\\nLe lexique définit les termes techniques employés dans le règlement, tels que acrotère, affouillement, alignement, annexe, architecture bioclimatique, bâtiment, clôture, construction, emprise au sol, exhaussement, extension, façade, limite séparative, modes doux, renouvellement urbain, sinistre, surface de plancher, talweg, unité foncière, vulnérabilité, etc.\\\\n\\\\n<br>\\\\n\\\\n**Vérification par imagerie satellitaire :**\\\\nL\\'imagerie satellitaire peut potentiellement servir à vérifier le respect de certaines règles, notamment :\\\\n\\\\n*   L\\'implantation des constructions par rapport aux limites séparatives et aux voies (Article 4) : l\\'imagerie peut permettre de mesurer les distances et de vérifier que les constructions respectent les reculs imposés.\\\\n*   L\\'emprise au sol des constructions (Article 4) : l\\'imagerie permet de mesurer la surface occupée par les constructions et de vérifier qu\\'elle respecte les limites fixées par le règlement.\\\\n*   La présence de surfaces végétalisées ou perméables (Article 6) : l\\'imagerie peut permettre de distinguer les surfaces végétalisées des surfaces imperméables et de vérifier que les pourcentages minimums sont respectés. Toutefois, la nature des plantations (essences locales, arbres de haute tige, etc.) ne peut être vérifiée par imagerie satellitaire.\\\\n*   La présence d\\'installations de production d\\'énergies renouvelables (Article 10) : l\\'imagerie peut permettre de détecter la présence de panneaux solaires ou d\\'autres installations, mais pas de vérifier leur puissance ou leur production réelle.\\\\n\\\\n\\\\n\\\\n\\\\n\\\\n\\\\n\\\\n\\\\n\\\\n\\\\n\\\\n\\\\n\\\\n\\\\n\\\\n\\\\n\\\\n\\\\n\\\\n\\\\n\\\\n\\\\n\\\\n\\\\n\\\\n\\\\n\\\\n\\\\n\\\\n\\\\n\\\\n\\\\n\\\\n\\\\n\\\\n\\\\n\\\\n\\\\n\\\\n\\\\n\\\\n\\\\n\\\\n\\\\n\\\\n\\\\n\\\\n\\\\n\\\\n\\\\n\\\\n\\\\n\\\\n\\\\n\\\\n\\\\n\\\\n\\\\n\\\\n\\\\n\\\\n\\\\n\\\\n\\\\n\\\\n\\\\n\\\\n\\\\n\\\\n\\\\n\\\\n\\\\n\\\\n\\\\n\\\\n\\\\n\\\\n\\\\n\\\\n\\\\n\\\\n\\\\n\\\\n\\\\n\\\\n\\\\n\\\\n\\\\n\\\\n\\\\n\\\\n\\\\n\\\\n\\\\n\\\\n\\\\n\\\\n\\\\n\\\\n\\\\n\\\\n\\\\n\\\\n\\\\n\\\\n\\\\n\\\\n\\\\n\\\\n\\\\n\\\\n\\\\n\\\\n\\\\n\\\\n\\\\n\\\\n\\\\n\\\\n\\\\n\\\\n\\\\n\\\\n\\\\n\\\\n\\\\n\\\\n\\\\n\\\\n\\\\n\\\\n\\\\n\\\\n\\\\n\\\\n\\\\n\\\\n\\\\n\\\\n\\\\n\\\\n\\\\n\\\\n\\\\n\\\\n\\\\n\\\\n\\\\n\\\\n\\\\n\\\\n\\\\n\\\\n\\\\n\\\\n\\\\n\\\\n\\\\n\\\\n\\\\n\\\\n\\\\n\\\\n\\\\n\\\\n\\\\n\\\\n\\\\n\\\\n\\\\n\\\\n\\\\n\\\\n\\\\n\\\\n\\\\n\\\\n\\\\n\\\\n\\\\n\\\\n\\\\n\\\\n\\\\n\\\\n\\\\n\\\\n\\\\n\\\\n\\\\n\\\\n\\\\n\\\\n\\\\n\\\\n\\\\n\\\\n\\\\n\\\\n\\\\n\\\\n\\\\n\\\\n\\\\n\\\\n\\\\n\\\\n\\\\n\\\\n\\\\n\\\\n\\\\n\\\\n\\\\n\\\\n\\\\n\\\\n\\\\n\\\\n\\\\n\\\\n\\\\n\\\\n\\\\n\\\\n\\\\n\\\\n\\\\n\\\\n\\\\n\\\\n\\\\n\\\\n\\\\n\\\\n\\\\n\\\\n\\\\n\\\\n\\\\n\\\\n\\\\n\\\\n\\\\n\\\\n\\\\n\\\\n\\\\n\\\\n\\\\n\\\\n\\\\n\\\\n\\\\n\\\\n\\\\n\\\\n\\\\n\\\\n\\\\n\\\\n\\\\n\\\\n\\\\n\\\\n\\\\n\\\\n\\\\n\\\\n\\\\n\\\\n\\\\n\\\\n\\\\n\\\\n\\\\n\\\\n\\\\n\\\\n\\\\n\\\\n\\\\n\\\\n\\\\n\\\\n\\\\n\\\\n\\\\n\\\\n\\\\n\\\\n\\\\n\\\\n\\\\n\\\\n\\\\n\\\\n\\\\n\\\\n\\\\n\\\\n\\\\n\\\\n\\\\n\\\\n\\\\n\\\\n\\\\n\\\\n\\\\n\\\\n\\\\n\\\\n\\\\n\\\\n\\\\n\\\\n\\\\n\\\\n\\\\n\\\\n\\\\n\\\\n\\\\n\\\\n\\\\n\\\\n\\\\n\\\\n\\\\n\\\\n\\\\n\\\\n\\\\n\\\\n\\\\n\\\\n\\\\n\\\\n\\\\n\\\\n\\\\n\\\\n\\\\n\\\\n\\\\n\\\\n\\\\n\\\\n\\\\n\\\\n\\\\n\\\\n\\\\n\\\\n\\\\n\\\\n\\\\n\\\\n\\\\n\\\\n\\\\n\\\\n\\\\n\\\\n\\\\n\\\\n\\\\n\\\\n\\\\n\\\\n\\\\n\\\\n\\\\n\\\\n\\\\n\\\\n\\\\n\\\\n\\\\n\\\\n\\\\n\\\\n\\\\n\\\\n\\\\n\\\\n\\\\n\\\\n\\\\n\\\\n\\\\n\\\\n\\\\n\\\\n\\\\n\\\\n\\\\n\\\\n\\\\n\\\\n\\\\n\\\\n\\\\n\\\\n\\\\n\\\\n\\\\n\\\\n\\\\n\\\\n\\\\n\\\\n\\\\n\\\\n\\\\n\\\\n\\\\n\\\\n\\\\n\\\\n\\\\n\\\\n\\\\n\\\\n\\\\n\\\\n\\\\n\\\\n\\\\n\\\\n\\\\n\\\\n\\\\n\\\\n\\\\n\\\\n\\\\n\\\\n\\\\n\\\\n\\\\n\\\\n\\\\n\\\\n\\\\n\\\\n\\\\n\\\\n\\\\n\\\\n\\\\n\\\\n\\\\n\\\\n\\\\n\\\\n\\\\n\\\\n\\\\n\\\\n\\\\n\\\\n\\\\n\\\\n\\\\n\\\\n\\\\n\\\\n\\\\n\\\\n\\\\n\\\\n\\\\n\\\\n\\\\n\\\\n\\\\n\\\\n\\\\n\\\\n\\\\n\\\\n\\\\n\\\\n\\\\n\\\\n\\\\n\\\\n\\\\n\\\\n\\\\n\\\\n\\\\n\\\\n\\\\n\\\\n\\\\n\\\\n\\\\n\\\\n\\\\n\\\\n\\\\n\\\\n\\\\n\\\\n\\\\n\\\\n\\\\n\\\\n\\\\n\\\\n\\\\n\\\\n\\\\n\\\\n\\\\n\\\\n\\\\n\\\\n\\\\n\\\\n\\\\n\\\\n\\\\n\\\\n\\\\n\\\\n\\\\n\\\\n\\\\n\\\\n\\\\n\\\\n\\\\n\\\\n\\\\n\\\\n\\\\n\\\\n\\\\n\\\\n\\\\n\\\\n\\\\n\\\\n\\\\n\\\\n\\\\n\\\\n\\\\n\\\\n\\\\n\\\\n\\\\n\\\\n\\\\n\\\\n\\\\n\\\\n\\\\n\\\\n\\\\n\\\\n\\\\n\\\\n\\\\n\\\\n\\\\n\\\\n\\\\n\\\\n\\\\n\\\\n\\\\n\\\\n\\\\n\\\\n\\\\n\\\\n\\\\n\\\\n\\\\n\\\\n\\\\n\\\\n\\\\n\\\\n\\\\n\\\\n\\\\n\\\\n\\\\n\\\\n\\\\n\\\\n\\\\n\\\\n\\\\n\\\\n\\\\n\\\\n\\\\n\\\\n\\\\n\\\\n\\\\n\\\\n\\\\n\\\\n\\\\n\\\\n\\\\n\\\\n\\\\n\\\\n\\\\n\\\\n\\\\n\\\\n\\\\n\\\\n\\\\n\\\\n\\\\n\\\\n\\\\n\\\\n\\\\n\\\\n\\\\n\\\\n\\\\n\\\\n\\\\n\\\\n\\\\n\\\\n\\\\n\\\\n\\\\n\\\\n\\\\n\\\\n\\\\n\\\\n\\\\n\\\\n\\\\n\\\\n\\\\n\\\\n\\\\n\\\\n\\\\n\\\\n\\\\n\\\\n\\\\n\\\\n\\\\n\\\\n\\\\n\\\\n\\\\n\\\\n\\\\n\\\\n\\\\n\\\\n\\\\n\\\\n\\\\n\\\\n\\\\n\\\\n\\\\n\\\\n\\\\n\\\\n\\\\n\\\\n\\\\n\\\\n\\\\n\\\\n\\\\n\\\\n\\\\n\\\\n\\\\n\\\\n\\\\n\\\\n\\\\n\\\\n\\\\n\\\\n\\\\n\\\\n\\\\n\\\\n\\\\n\\\\n\\\\n\\\\n\\\\n\\\\n\\\\n\\\\n\\\\n\\\\n\\\\n\\\\n\\\\n\\\\n\\\\n\\\\n\\\\n\\\\n\\\\n\\\\n\\\\n\\\\n\\\\n\\\\n\\\\n\\\\n\\\\n\\\\n\\\\n\\\\n\\\\n\\\\n\\\\n\\\\n\\\\n\\\\n\\\\n\\\\n\\\\n\\\\n\\\\n\\\\n\\\\n\\\\n\\\\n\\\\n\\\\n\\\\n\\\\n\\\\n\\\\n\\\\n\\\\n\\\\n\\\\n\\\\n\\\\n\\\\n\\\\n\\\\n\\\\n\\\\n\\\\n\\\\n\\\\n\\\\n\\\\n\\\\n\\\\n\\\\n\\\\n\\\\n\\\\n\\\\n\\\\n\\\\n\\\\n\\\\n\\\\n\\\\n\\\\n\\\\n\\\\n\\\\n\\\\n\\\\n\\\\n\\\\n\\\\n\\\\n\\\\n\\\\n\\\\n\\\\n\\\\n\\\\n\\\\n\\\\n\\\\n\\\\n\\\\n\\\\n\\\\n\\\\n\\\\n\\\\n\\\\n\\\\n\\\\n\\\\n\\\\n\\\\n\\\\n\\\\n\\\\n\\\\n\\\\n\\\\n\\\\n\\\\n\\\\n\\\\n\\\\n\\\\n\\\\n\\\\n\\\\n\\\\n\\\\n\\\\n\\\\n\\\\n\\\\n\\\\n\\\\n\\\\n\\\\n\\\\n\\\\n\\\\n\\\\n\\\\n\\\\n\\\\n\\\\n\\\\n\\\\n\\\\n\\\\n\\\\n\\\\n\\\\n\\\\n\\\\n\\\\n\\\\n\\\\n\\\\n\\\\n\\\\n\\\\n\\\\n\\\\n\\\\n\\\\n\\\\n\\\\n\\\\n\\\\n\\\\n\\\\n\\\\n\\\\n\\\\n\\\\n\\\\n\\\\n\\\\n\\\\n\\\\n\\\\n\\\\n\\\\n\\\\n\\\\n\\\\n\\\\n\\\\n\\\\n\\\\n\\\\n\\\\n\\\\n\\\\n\\\\n\\\\n\\\\n\\\\n\\\\n\\\\n\\\\n\\\\n\\\\n\\\\n\\\\n\\\\n\\\\n\\\\n\\\\n\\\\n\\\\n\\\\n\\\\n\\\\n\\\\n\\\\n\\\\n\\\\n\\\\n\\\\n\\\\n\\\\n\\\\n\\\\n\\\\n\\\\n\\\\n\\\\n\\\\n\\\\n\\\\n\\\\n\\\\n\\\\n\\\\n\\\\n\\\\n\\\\n\\\\n\\\\n\\\\n\\\\n\\\\n\\\\n\\\\n\\\\n\\\\n\\\\n\\\\n\\\\n\\\\n\\\\n\\\\n\\\\n\\\\n\\\\n\\\\n\\\\n\\\\n\\\\n\\\\n\\\\n\\\\n\\\\n\\\\n\\\\n\\\\n\\\\n\\\\n\\\\n\\\\n\\\\n\\\\n\\\\n\\\\n\\\\n\\\\n\\\\n\\\\n\\\\n\\\\n\\\\n\\\\n\\\\n\\\\n\\\\n\\\\n\\\\n\\\\n\\\\n\\\\n\\\\n\\\\n\\\\n\\\\n\\\\n\\\\n\\\\n\\\\n\\\\n\\\\n\\\\n\\\\n\\\\n\\\\n\\\\n\\\\n\\\\n\\\\n\\\\n\\\\n\\\\n\\\\n\\\\n\\\\n\\\\n\\\\n\\\\n\\\\n\\\\n\\\\n\\\\n\\\\n\\\\n\\\\n\\\\n\\\\n\\\\n\\\\n\\\\n\\\\n\\\\n\\\\n\\\\n\\\\n\\\\n\\\\n\\\\n\\\\n\\\\n\\\\n\\\\n\\\\n\\\\n\\\\n\\\\n\\\\n\\\\n\\\\n\\\\n\\\\n\\\\n\\\\n\\\\n\\\\n\\\\n\\\\n\\\\n\\\\n\\\\n\\\\n\\\\n\\\\n\\\\n\\\\n\\\\n\\\\n\\\\n\\\\n\\\\n\\\\n\\\\n\\\\n\\\\n\\\\n\\\\n\\\\n\\\\n\\\\n\\\\n\\\\n\\\\n\\\\n\\\\n\\\\n\\\\n\\\\n\\\\n\\\\n\\\\n\\\\n\\\\n\\\\n\\\\n\\\\n\\\\n\\\\n\\\\n\\\\n\\\\n\\\\n\\\\n\\\\n\\\\n\\\\n\\\\n\\\\n\\\\n\\\\n\\\\n\\\\n\\\\n\\\\n\\\\n\\\\n\\\\n\\\\n\\\\n\\\\n\\\\n\\\\n\\\\n\\\\n\\\\n\\\\n\\\\n\\\\n\\\\n\\\\n\\\\n\\\\n\\\\n\\\\n\\\\n\\\\n\\\\n\\\\n\\\\n\\\\n\\\\n\\\\n\\\\n\\\\n\\\\n\\\\n\\\\n\\\\n\\\\n\\\\n\\\\n\\\\n\\\\n\\\\n\\\\n\\\\n\\\\n\\\\n\\\\n\\\\n\\\\n\\\\n\\\\n\\\\n\\\\n\\\\n\\\\n\\\\n\\\\n\\\\n\\\\n\\\\n\\\\n\\\\n\\\\n\\\\n\\\\n\\\\n\\\\n\\\\n\\\\n\\\\n\\\\n\\\\n\\\\n\\\\n\\\\n\\\\n\\\\n\\\\n\\\\n\\\\n\\\\n\\\\n\\\\n\\\\n\\\\n\\\\n\\\\n\\\\n\\\\n\\\\n\\\\n\\\\n\\\\n\\\\n\\\\n\\\\n\\\\n\\\\n\\\\n\\\\n\\\\n\\\\n\\\\n\\\\n\\\\n\\\\n\\\\n\\\\n\\\\n\\\\n\\\\n\\\\n\\\\n\\\\n\\\\n\\\\n\\\\n\\\\n\\\\n\\\\n\\\\n\\\\n\\\\n\\\\n\\\\n\\\\n\\\\n\\\\n\\\\n\\\\n\\\\n\\\\n\\\\n\\\\n\\\\n\\\\n\\\\n\\\\n\\\\n\\\\n\\\\n\\\\n\\\\n\\\\n\\\\n\\\\n\\\\n\\\\n\\\\n\\\\n\\\\n\\\\n\\\\n\\\\n\\\\n\\\\n\\\\n\\\\n\\\\n\\\\n\\\\n\\\\n\\\\n\\\\n\\\\n\\\\n\\\\n\\\\n\\\\n\\\\n\\\\n\\\\n\\\\n\\\\n\\\\n\\\\n\\\\n\\\\n\\\\n\\\\n\\\\n\\\\n\\\\n\\\\n\\\\n\\\\n\\\\n\\\\n\\\\n\\\\n\\\\n\\\\n\\\\n\\\\n\\\\n\\\\n\\\\n\\\\n\\\\n\\\\n\\\\n\\\\n\\\\n\\\\n\\\\n\\\\n\\\\n\\\\n\\\\n\\\\n\\\\n\\\\n\\\\n\\\\n\\\\n\\\\n\\\\n\\\\n\\\\n\\\\n\\\\n\\\\n\\\\n\\\\n\\\\n\\\\n\\\\n\\\\n\\\\n\\\\n\\\\n\\\\n\\\\n\\\\n\\\\n\\\\n\\\\n\\\\n\\\\n\\\\n\\\\n\\\\n\\\\n\\\\n\\\\n\\\\n\\\\n\\\\n\\\\n\\\\n\\\\n\\\\n\\\\n\\\\n\\\\n\\\\n\\\\n\\\\n\\\\n\\\\n\\\\n\\\\n\\\\n\\\\n\\\\n\\\\n\\\\n\\\\n\\\\n\\\\n\\\\n\\\\n\\\\n\\\\n\\\\n\\\\n\\\\n\\\\n\\\\n\\\\n\\\\n\\\\n\\\\n\\\\n\\\\n\\\\n\\\\n\\\\n\\\\n\\\\n\\\\n\\\\n\\\\n\\\\n\\\\n\\\\n\\\\n\\\\n\\\\n\\\\n\\\\n\\\\n\\\\n\\\\n\\\\n\\\\n\\\\n\\\\n\\\\n\\\\n\\\\n\\\\n\\\\n\\\\n\\\\n\\\\n\\\\n\\\\n\\\\n\\\\n\\\\n\\\\n\\\\n\\\\n\\\\n\\\\n\\\\n\\\\n\\\\n\\\\n\\\\n\\\\n\\\\n\\\\n\\\\n\\\\n\\\\n\\\\n\\\\n\\\\n\\\\n\\\\n\\\\n\\\\n\\\\n\\\\n\\\\n\\\\n\\\\n\\\\n\\\\n\\\\n\\\\n\\\\n\\\\n\\\\n\\\\n\\\\n\\\\n\\\\n\\\\n\\\\n\\\\n\\\\n\\\\n\\\\n\\\\n\\\\n\\\\n\\\\n\\\\n\\\\n\\\\n\\\\n\\\\n\\\\n\\\\n\\\\n\\\\n\\\\n\\\\n\\\\n\\\\n\\\\n\\\\n\\\\n\\\\n\\\\n\\\\n\\\\n\\\\n\\\\n\\\\n\\\\n\\\\n\\\\n\\\\n\\\\n\\\\n\\\\n\\\\n\\\\n\\\\n\\\\n\\\\n\\\\n\\\\n\\\\n\\\\n\\\\n\\\\n\\\\n\\\\n\\\\n\\\\n\\\\n\\\\n\\\\n\\\\n\\\\n\\\\n\\\\n\\\\n\\\\n\\\\n\\\\n\\\\n\\\\n\\\\n\\\\n\\\\n\\\\n\\\\n\\\\n\\\\n\\\\n\\\\n\\\\n\\\\n\\\\n\\\\n\\\\n\\\\n\\\\n\\\\n\\\\n\\\\n\\\\n\\\\n\\\\n\\\\n\\\\n\\\\n\\\\n\\\\n\\\\n\\\\n\\\\n\\\\n\\\\n\\\\n\\\\n\\\\n\\\\n\\\\n\\\\n\\\\n\\\\n\\\\n\\\\n\\\\n\\\\n\\\\n\\\\n\\\\n\\\\n\\\\n\\\\n\\\\n\\\\n\\\\n\\\\n\\\\n\\\\n\\\\n\\\\n\\\\n\\\\n\\\\n\\\\n\\\\n\\\\n\\\\n\\\\n\\\\n\\\\n\\\\n\\\\n\\\\n\\\\n\\\\n\\\\n\\\\n\\\\n\\\\n\\\\n\\\\n\\\\n\\\\n\\\\n\\\\n\\\\n\\\\n\\\\n\\\\n\\\\n\\\\n\\\\n\\\\n\\\\n\\\\n\\\\n\\\\n\\\\n\\\\n\\\\n\\\\n\\\\n\\\\n\\\\n\\\\n\\\\n\\\\n\\\\n\\\\n\\\\n\\\\n\\\\n\\\\n\\\\n\\\\n\\\\n\\\\n\\\\n\\\\n\\\\n\\\\n\\\\n\\\\n\\\\n\\\\n\\\\n\\\\n\\\\n\\\\n\\\\n\\\\n\\\\n\\\\n\\\\n\\\\n\\\\n\\\\n\\\\n\\\\n\\\\n\\\\n\\\\n\\\\n\\\\n\\\\n\\\\n\\\\n\\\\n\\\\n\\\\n\\\\n\\\\n\\\\n\\\\n\\\\n\\\\n\\\\n\\\\n\\\\n\\\\n\\\\n\\\\n\\\\n\\\\n\\\\n\\\\n\\\\n\\\\n\\\\n\\\\n\\\\n\\\\n\\\\n\\\\n\\\\n\\\\n\\\\n\\\\n\\\\n\\\\n\\\\n\\\\n\\\\n\\\\n\\\\n\\\\n\\\\n\\\\n\\\\n\\\\n\\\\n\\\\n\\\\n\\\\n\\\\n\\\\n\\\\n\\\\n\\\\n\\\\n\\\\n\\\\n\\\\n\\\\n\\\\n\\\\n\\\\n\\\\n\\\\n\\\\n\\\\n\\\\n\\\\n\\\\n\\\\n\\\\n\\\\n\\\\n\\\\n\\\\n\\\\n\\\\n\\\\n\\\\n\\\\n\\\\n\\\\n\\\\n\\\\n\\\\n\\\\n\\\\n\\\\n\\\\n\\\\n\\\\n\\\\n\\\\n\\\\n\\\\n\\\\n\\\\n\\\\n\\\\n\\\\n\\\\n\\\\n\\\\n\\\\n\\\\n\\\\n\\\\n\\\\n\\\\n\\\\n\\\\n\\\\n\\\\n\\\\n\\\\n\\\\n\\\\n\\\\n\\\\n\\\\n\\\\n\\\\n\\\\n\\\\n\\\\n\\\\n\\\\n\\\\n\\\\n\\\\n\\\\n\\\\n\\\\n\\\\n\\\\n\\\\n\\\\n\\\\n\\\\n\\\\n\\\\n\\\\n\\\\n\\\\n\\\\n\\\\n\\\\n\\\\n\\\\n\\\\n\\\\n\\\\n\\\\n\\\\n\\\\n\\\\n\\\\n\\\\n\\\\n\\\\n\\\\n\\\\n\\\\n\\\\n\\\\n\\\\n\\\\n\\\\n\\\\n\\\\n\\\\n\\\\n\\\\n\\\\n\\\\n\\\\n\\\\n\\\\n\\\\n\\\\n\\\\n\\\\n\\\\n\\\\n\\\\n\\\\n\\\\n\\\\n\\\\n\\\\n\\\\n\\\\n\\\\n\\\\n\\\\n\\\\n\\\\n\\\\n\\\\n\\\\n\\\\n\\\\n\\\\n\\\\n\\\\n\\\\n\\\\n\\\\n\\\\n\\\\n\\\\n\\\\n\\\\n\\\\n\\\\n\\\\n\\\\n\\\\n\\\\n\\\\n\\\\n\\\\n\\\\n\\\\n\\\\n\\\\n\\\\n\\\\n\\\\n\\\\n\\\\n\\\\n\\\\n\\\\n\\\\n\\\\n\\\\n\\\\n\\\\n\\\\n\\\\n\\\\n\\\\n\\\\n\\\\n\\\\n\\\\n\\\\n\\\\n\\\\n\\\\n\\\\n\\\\n\\\\n\\\\n\\\\n\\\\n\\\\n\\\\n\\\\n\\\\n\\\\n\\\\n\\\\n\\\\n\\\\n\\\\n\\\\n\\\\n\\\\n\\\\n\\\\n\\\\n\\\\n\\\\n\\\\n\\\\n\\\\n\\\\n\\\\n\\\\n\\\\n\\\\n\\\\n\\\\n\\\\n\\\\n\\\\n\\\\n\\\\n\\\\n\\\\n\\\\n\\\\n\\\\n\\\\n\\\\n\\\\n\\\\n\\\\n\\\\n\\\\n\\\\n\\\\n\\\\n\\\\n\\\\n\\\\n\\\\n\\\\n\\\\n\\\\n\\\\n\\\\n\\\\n\\\\n\\\\n\\\\n\\\\n\\\\n\\\\n\\\\n\\\\n\\\\n\\\\n\\\\n\\\\n\\\\n\\\\n\\\\n\\\\n\\\\n\\\\n\\\\n\\\\n\\\\n\\\\n\\\\n\\\\n\\\\n\\\\n\\\\n\\\\n\\\\n\\\\n\\\\n\\\\n\\\\n\\\\n\\\\n\\\\n\\\\n\\\\n\\\\n\\\\n\\\\n\\\\n\\\\n\\\\n\\\\n\\\\n\\\\n\\\\n\\\\n\\\\n\\\\n\\\\n\\\\n\\\\n\\\\n\\\\n\\\\n\\\\n\\\\n\\\\n\\\\n\\\\n\\\\n\\\\n\\\\n\\\\n\\\\n\\\\n\\\\n\\\\n\\\\n\\\\n\\\\n\\\\n\\\\n\\\\n\\\\n\\\\n\\\\n\\\\n\\\\n\\\\n\\\\n\\\\n\\\\n\\\\n\\\\n\\\\n\\\\n\\\\n\\\\n\\\\n\\\\n\\\\n\\\\n\\\\n\\\\n\\\\n\\\\n\\\\n\\\\n\\\\n\\\\n\\\\n\\\\n\\\\n\\\\n\\\\n\\\\n\\\\n\\\\n\\\\n\\\\n\\\\n\\\\n\\\\n\\\\n\\\\n\\\\n\\\\n\\\\n\\\\n\\\\n\\\\n\\\\n\\\\n\\\\n\\\\n\\\\n\\\\n\\\\n\\\\n\\\\n\\\\n\\\\n\\\\n\\\\n\\\\n\\\\n\\\\n\\\\n\\\\n\\\\n\\\\n\\\\n\\\\n\\\\n\\\\n\\\\n\\\\n\\\\n\\\\n\\\\n\\\\n\\\\n\\\\n\\\\n\\\\n\\\\n\\\\n\\\\n\\\\n\\\\n\\\\n\\\\n\\\\n\\\\n\\\\n\\\\n\\\\n\\\\n\\\\n\\\\n\\\\n\\\\n\\\\n\\\\n\\\\n\\\\n\\\\n\\\\n\\\\n\\\\n\\\\n\\\\n\\\\n\\\\n\\\\n\\\\n\\\\n\\\\n\\\\n\\\\n\\\\n\\\\n\\\\n\\\\n\\\\n\\\\n\\\\n\\\\n\\\\n\\\\n\\\\n\\\\n\\\\n\\\\n\\\\n\\\\n\\\\n\\\\n\\\\n\\\\n\\\\n\\\\n\\\\n\\\\n\\\\n\\\\n\\\\n\\\\n\\\\n\\\\n\\\\n\\\\n\\\\n\\\\n\\\\n\\\\n\\\\n\\\\n\\\\n\\\\n\\\\n\\\\n\\\\n\\\\n\\\\n\\\\n\\\\n\\\\n\\\\n\\\\n\\\\n\\\\n\\\\n\\\\n\\\\n\\\\n\\\\n\\\\n\\\\n\\\\n\\\\n\\\\n\\\\n\\\\n\\\\n\\\\n\\\\n\\\\n\\\\n\\\\n\\\\n\\\\n\\\\n\\\\n\\\\n\\\\n\\\\n\\\\n\\\\n\\\\n\\\\n\\\\n\\\\n\\\\n\\\\n\\\\n\\\\n\\\\n\\\\n\\\\n\\\\n\\\\n\\\\n\\\\n\\\\n\\\\n\\\\n\\\\n\\\\n\\\\n\\\\n\\\\n\\\\n\\\\n\\\\n\\\\n\\\\n\\\\n\\\\n\\\\n\\\\n\\\\n\\\\n\\\\n\\\\n\\\\n\\\\n\\\\n\\\\n\\\\n\\\\n\\\\n\\\\n\\\\n\\\\n\\\\n\\\\n\\\\n\\\\n\\\\n\\\\n\\\\n\\\\n\\\\n\\\\n\\\\n\\\\n\\\\n\\\\n\\\\n\\\\n\\\\n\\\\n\\\\n\\\\n\\\\n\\\\n\\\\n\\\\n\\\\n\\\\n\\\\n\\\\n\\\\n\\\\n\\\\n\\\\n\\\\n\\\\n\\\\n\\\\n\\\\n\\\\n\\\\n\\\\n\\\\n\\\\n\\\\n\\\\n\\\\n\\\\n\\\\n\\\\n\\\\n\\\\n\\\\n\\\\n\\\\n\\\\n\\\\n\\\\n\\\\n\\\\n\\\\n\\\\n\\\\n\\\\n\\\\n\\\\n\\\\n\\\\n\\\\n\\\\n\\\\n\\\\n\\\\n\\\\n\\\\n\\\\n\\\\n\\\\n\\\\n\\\\n\\\\n\\\\n\\\\n\\\\n\\\\n\\\\n\\\\n\\\\n\\\\n\\\\n\\\\n\\\\n\\\\n\\\\n\\\\n\\\\n\\\\n\\\\n\\\\n\\\\n\\\\n\\\\n\\\\n\\\\n\\\\n\\\\n\\\\n\\\\n\\\\n\\\\n\\\\n\\\\n\\\\n\\\\n\\\\n\\\\n\\\\n\\\\n\\\\n\\\\n\\\\n\\\\n\\\\n\\\\n\\\\n\\\\n\\\\n\\\\n\\\\n\\\\n\\\\n\\\\n\\\\n\\\\n\\\\n\\\\n\\\\n\\\\n\\\\n\\\\n\\\\n\\\\n\\\\n\\\\n\\\\n\\\\n\\\\n\\\\n\\\\n\\\\n\\\\n\\\\n\\\\n\\\\n\\\\n\\\\n\\\\n\\\\n\\\\n\\\\n\\\\n\\\\n\\\\n\\\\n\\\\n\\\\n\\\\n\\\\n\\\\n\\\\n\\\\n\\\\n\\\\n\\\\n\\\\n\\\\n\\\\n\\\\n\\\\n\\\\n\\\\n\\\\n\\\\n\\\\n\\\\n\\\\n\\\\n\\\\n\\\\n\\\\n\\\\n\\\\n\\\\n\\\\n\\\\n\\\\n\\\\n\\\\n\\\\n\\\\n\\\\n\\\\n\\\\n\\\\n\\\\n\\\\n\\\\n\\\\n\\\\n\\\\n\\\\n\\\\n\\\\n\\\\n\\\\n\\\\n\\\\n\\\\n\\\\n\\\\n\\\\n\\\\n\\\\n\\\\n\\\\n\\\\n\\\\n\\\\n\\\\n\\\\n\\\\n\\\\n\\\\n\\\\n\\\\n\\\\n\\\\n\\\\n\\\\n\\\\n\\\\n\\\\n\\\\n\\\\n\\\\n\\\\n\\\\n\\\\n\\\\n\\\\n\\\\n\\\\n\\\\n\\\\n\\\\n\\\\n\\\\n\\\\n\\\\n\\\\n\\\\n\\\\n\\\\n\\\\n\\\\n\\\\n\\\\n\\\\n\\\\n\\\\n\\\\n\\\\n\\\\n\\\\n\\\\n\\\\n\\\\n\\\\n\\\\n\\\\n\\\\n\\\\n\\\\n\\\\n\\\\n\\\\n\\\\n\\\\n\\\\n\\\\n\\\\n\\\\n\\\\n\\\\n\\\\n\\\\n\\\\n\\\\n\\\\n\\\\n\\\\n\\\\n\\\\n\\\\n\\\\n\\\\n\\\\n\\\\n\\\\n\\\\n\\\\n\\\\n\\\\n\\\\n\\\\n\\\\n\\\\n\\\\n\\\\n\\\\n\\\\n\\\\n\\\\n\\\\n\\\\n\\\\n\\\\n\\\\n\\\\n\\\\n\\\\n\\\\n\\\\n\\\\n\\\\n\\\\n\\\\n\\\\n\\\\n\\\\n\\\\n\\\\n\\\\n\\\\n\\\\n\\\\n\\\\n\\\\n\\\\n\\\\n\\\\n\\\\n\\\\n\\\\n\\\\n\\\\n\\\\n\\\\n\\\\n\\\\n\\\\n\\\\n\\\\n\\\\n\\\\n\\\\n\\\\n\\\\n\\\\n\\\\n\\\\n\\\\n\\\\n\\\\n\\\\n\\\\n\\\\n\\\\n\\\\n\\\\n\\\\n\\\\n\\\\n\\\\n\\\\n\\\\n\\\\n\\\\n\\\\n\\\\n\\\\n\\\\n\\\\n\\\\n\\\\n\\\\n\\\\n\\\\n\\\\n\\\\n\\\\n\\\\n\\\\n\\\\n\\\\n\\\\n\\\\n\\\\n\\\\n\\\\n\\\\n\\\\n\\\\n\\\\n\\\\n\\\\n\\\\n\\\\n\\\\n\\\\n\\\\n\\\\n\\\\n\\\\n\\\\n\\\\n\\\\n\\\\n\\\\n\\\\n\\\\n\\\\n\\\\n\\\\n\\\\n\\\\n\\\\n\\\\n\\\\n\\\\n\\\\n\\\\n\\\\n\\\\n\\\\n\\\\n\\\\n\\\\n\\\\n\\\\n\\\\n\\\\n\\\\n\\\\n\\\\n\\\\n\\\\n\\\\n\\\\n\\\\n\\\\n\\\\n\\\\n\\\\n\\\\n\\\\n\\\\n\\\\n\\\\n\\\\n\\\\n\\\\n\\\\n\\\\n\\\\n\\\\n\\\\n\\\\n\\\\n\\\\n\\\\n\\\\n\\\\n\\\\n\\\\n\\\\n\\\\n\\\\n\\\\n\\\\n\\\\n\\\\n\\\\n\\\\n\\\\n\\\\n\\\\n\\\\n\\\\n\\\\n\\\\n\\\\n\\\\n\\\\n\\\\n\\\\n\\\\n\\\\n\\\\n\\\\n\\\\n\\\\n\\\\n\\\\n\\\\n\\\\n\\\\n\\\\n\\\\n\\\\n\\\\n\\\\n\\\\n\\\\n\\\\n\\\\n\\\\n\\\\n\\\\n\\\\n\\\\n\\\\n\\\\n\\\\n\\\\n\\\\n\\\\n\\\\n\\\\n\\\\n\\\\n\\\\n\\\\n\\\\n\\\\n\\\\n\\\\n\\\\n\\\\n\\\\n\\\\n\\\\n\\\\n\\\\n\\\\n\\\\n\\\\n\\\\n\\\\n\\\\n\\\\n\\\\n\\\\n\\\\n\\\\n\\\\n\\\\n\\\\n\\\\n\\\\n\\\\n\\\\n\\\\n\\\\n\\\\n\\\\n\\\\n\\\\n\\\\n\\\\n\\\\n\\\\n\\\\n\\\\n\\\\n\\\\n\\\\n\\\\n\\\\n\\\\n\\\\n\\\\n\\\\n\\\\n\\\\n\\\\n\\\\n\\\\n\\\\n\\\\n\\\\n\\\\n\\\\n\\\\n\\\\n\\\\n\\\\n\\\\n\\\\n\\\\n\\\\n\\\\n\\\\n\\\\n\\\\n\\\\n\\\\n\\\\n\\\\n\\\\n\\\\n\\\\n\\\\n\\\\n\\\\n\\\\n\\\\n\\\\n\\\\n'"
      ]
     },
     "execution_count": 232,
     "metadata": {},
     "output_type": "execute_result"
    }
   ],
   "source": [
    "response.to_dict()[\"candidates\"][0][\"content\"][\"parts\"][0][\"text\"]"
   ]
  },
  {
   "cell_type": "markdown",
   "metadata": {},
   "source": [
    "# Conversion en PDF"
   ]
  },
  {
   "cell_type": "code",
   "execution_count": null,
   "metadata": {},
   "outputs": [],
   "source": [
    "import markdown\n",
    "from weasyprint import HTML\n",
    "\n",
    "# Lire le fichier Markdown\n",
    "with open('/mnt/mydisk/Projects/plu/data/processed/plui-grenoble.md', 'r', encoding='utf-8') as f:\n",
    "    markdown_content = f.read()\n",
    "    \n",
    "# Convertir le Markdown en HTML\n",
    "html_content = markdown.markdown(markdown_content, extensions=['tables', 'fenced_code', 'codehilite', 'nl2br'])\n",
    "\n",
    "# Ajouter un style CSS basique\n",
    "html_content = f\"\"\"\n",
    "<!DOCTYPE html>\n",
    "<html>\n",
    "<head>\n",
    "    <meta charset=\"UTF-8\">\n",
    "    <style>\n",
    "        body {{ font-family: Arial, sans-serif; margin: 0cm; line-height: 1.5; }}\n",
    "        h1 {{ color: #2c3e50; }}\n",
    "        h2 {{ color: #3498db; margin-top: 1.5em; }}\n",
    "        h3 {{ color: #2980b9; margin-top: 1.2em; }}\n",
    "        blockquote {{ background-color: #f8f9fa; padding: 10px; border-left: 4px solid #3498db; margin-left: 10px; }}\n",
    "        li {{ margin-bottom: 8px; }}\n",
    "        code {{ background-color: #f8f9fa; padding: 2px 4px; }}\n",
    "    </style>\n",
    "</head>\n",
    "<body>\n",
    "    {html_content}\n",
    "</body>\n",
    "</html>\n",
    "\"\"\"\n",
    "\n",
    "# Générer le PDF\n",
    "HTML(string=html_content).write_pdf('/mnt/mydisk/Projects/plu/data/processed/plui-grenoble.pdf')"
   ]
  }
 ],
 "metadata": {
  "kernelspec": {
   "display_name": "plu",
   "language": "python",
   "name": "python3"
  },
  "language_info": {
   "codemirror_mode": {
    "name": "ipython",
    "version": 3
   },
   "file_extension": ".py",
   "mimetype": "text/x-python",
   "name": "python",
   "nbconvert_exporter": "python",
   "pygments_lexer": "ipython3",
   "version": "3.12.9"
  }
 },
 "nbformat": 4,
 "nbformat_minor": 2
}
