{
 "cells": [
  {
   "cell_type": "code",
   "execution_count": null,
   "metadata": {},
   "outputs": [],
   "source": [
    "import json\n",
    "import os\n",
    "\n",
    "import dotenv\n",
    "import requests\n",
    "\n",
    "dotenv.load_dotenv()\n",
    "OPENROUTER_API_KEY = os.getenv(\"OPEN_ROUTER_DEEPSEEK_API_KEY\")"
   ]
  },
  {
   "cell_type": "code",
   "execution_count": null,
   "metadata": {},
   "outputs": [],
   "source": [
    "def deepseek_chat_v3_0324(user_message: str) -> requests.Response:\n",
    "    response = requests.post(\n",
    "        url=\"https://openrouter.ai/api/v1/chat/completions\",\n",
    "        headers={\n",
    "            \"Authorization\": f\"Bearer {OPENROUTER_API_KEY}\",\n",
    "            \"Content-Type\": \"application/json\",\n",
    "        },\n",
    "        data=json.dumps(\n",
    "            {\n",
    "                \"model\": \"deepseek/deepseek-chat-v3-0324:free\",\n",
    "                \"messages\": [{\"role\": \"user\", \"content\": user_message}],\n",
    "            }\n",
    "        ),\n",
    "    )\n",
    "    return response"
   ]
  },
  {
   "cell_type": "code",
   "execution_count": null,
   "metadata": {},
   "outputs": [],
   "source": [
    "response_deepseek = deepseek_chat_v3_0324(\"What is the meaning of life?\")\n",
    "response_deepseek.json()"
   ]
  },
  {
   "cell_type": "markdown",
   "metadata": {},
   "source": [
    "## Google AI"
   ]
  },
  {
   "cell_type": "code",
   "execution_count": null,
   "metadata": {},
   "outputs": [],
   "source": [
    "import base64\n",
    "import os\n",
    "\n",
    "from google import genai\n",
    "from google.genai import types"
   ]
  },
  {
   "cell_type": "code",
   "execution_count": null,
   "metadata": {},
   "outputs": [],
   "source": [
    "def gemini_thinking(user_message: str) -> types.GenerateContentResponse:\n",
    "    \"\"\"\n",
    "    Génère une réponse du modèle Gemini et retourne la réponse brute complète\n",
    "    au lieu de l'afficher par morceaux.\n",
    "    \n",
    "    Args:\n",
    "        user_message: Le message utilisateur à envoyer au modèle\n",
    "        \n",
    "    Returns:\n",
    "        La réponse brute complète du modèle sous forme de chaîne de caractères\n",
    "    \"\"\"\n",
    "    client = genai.Client(\n",
    "        api_key=os.environ.get(\"GOOGLE_AI_API_KEY\"),\n",
    "    )\n",
    "\n",
    "    model = \"gemini-2.0-flash-thinking-exp-01-21\"  # \"gemini-2.5-pro-exp-03-25\"\n",
    "    contents = [\n",
    "        types.Content(\n",
    "            role=\"user\",\n",
    "            parts=[\n",
    "                types.Part.from_text(text=user_message),\n",
    "            ],\n",
    "        ),\n",
    "    ]\n",
    "    generate_content_config = types.GenerateContentConfig(\n",
    "        response_mime_type=\"text/plain\",\n",
    "    )\n",
    "\n",
    "    # Au lieu de streamer la réponse, on récupère la réponse complète\n",
    "    response = client.models.generate_content(\n",
    "        model=model,\n",
    "        contents=contents,\n",
    "        config=generate_content_config,\n",
    "    )\n",
    "    \n",
    "    # Retourne la réponse brute complète\n",
    "    return response\n"
   ]
  },
  {
   "cell_type": "code",
   "execution_count": null,
   "metadata": {},
   "outputs": [],
   "source": [
    "response = gemini_thinking(\"What is the meaning of life?\")\n",
    "response"
   ]
  },
  {
   "cell_type": "code",
   "execution_count": null,
   "metadata": {},
   "outputs": [],
   "source": [
    "response.to_json_dict()"
   ]
  }
 ],
 "metadata": {
  "kernelspec": {
   "display_name": "plu",
   "language": "python",
   "name": "python3"
  },
  "language_info": {
   "codemirror_mode": {
    "name": "ipython",
    "version": 3
   },
   "file_extension": ".py",
   "mimetype": "text/x-python",
   "name": "python",
   "nbconvert_exporter": "python",
   "pygments_lexer": "ipython3",
   "version": "3.12.9"
  }
 },
 "nbformat": 4,
 "nbformat_minor": 2
}
