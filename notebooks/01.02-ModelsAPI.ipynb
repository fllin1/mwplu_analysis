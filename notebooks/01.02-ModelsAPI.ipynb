{
 "cells": [
  {
   "cell_type": "code",
   "execution_count": null,
   "metadata": {},
   "outputs": [],
   "source": [
    "import json\n",
    "import os\n",
    "\n",
    "import dotenv\n",
    "import requests\n",
    "\n",
    "dotenv.load_dotenv()\n",
    "OPENROUTER_API_KEY = os.getenv(\"OPEN_ROUTER_DEEPSEEK_API_KEY\")"
   ]
  },
  {
   "cell_type": "code",
   "execution_count": null,
   "metadata": {},
   "outputs": [],
   "source": [
    "def deepseek_chat_v3_0324(user_message: str) -> requests.Response:\n",
    "    response = requests.post(\n",
    "        url=\"https://openrouter.ai/api/v1/chat/completions\",\n",
    "        headers={\n",
    "            \"Authorization\": f\"Bearer {OPENROUTER_API_KEY}\",\n",
    "            \"Content-Type\": \"application/json\",\n",
    "        },\n",
    "        data=json.dumps(\n",
    "            {\n",
    "                \"model\": \"deepseek/deepseek-chat-v3-0324:free\",\n",
    "                \"messages\": [{\"role\": \"user\", \"content\": user_message}],\n",
    "            }\n",
    "        ),\n",
    "    )\n",
    "    return response"
   ]
  },
  {
   "cell_type": "code",
   "execution_count": 20,
   "metadata": {},
   "outputs": [
    {
     "data": {
      "text/plain": [
       "{'id': 'gen-1743076928-E9dLcQMAepaYtdF3cxGo',\n",
       " 'provider': 'Chutes',\n",
       " 'model': 'deepseek/deepseek-chat-v3-0324',\n",
       " 'object': 'chat.completion',\n",
       " 'created': 1743076928,\n",
       " 'choices': [{'logprobs': None,\n",
       "   'finish_reason': 'stop',\n",
       "   'native_finish_reason': 'stop',\n",
       "   'index': 0,\n",
       "   'message': {'role': 'assistant',\n",
       "    'content': 'The meaning of life is one of the most profound and debated questions in philosophy, religion, science, and personal reflection. Different perspectives offer various answers:\\n\\n### 1. **Philosophical Perspectives**  \\n   - **Existentialism (e.g., Sartre, Camus):** Life has no inherent meaning—we must create our own purpose through choices and actions.  \\n   - **Absurdism (Camus):** The search for meaning in a meaningless universe is absurd, but we must embrace life passionately anyway.  \\n   - **Stoicism:** Meaning comes from living virtuously, accepting what we cannot control, and focusing on inner peace.  \\n\\n### 2. **Religious/Spiritual Views**  \\n   - **Theistic religions (Christianity, Islam, Hinduism, etc.):** Life’s purpose is tied to divine will—serving God, achieving enlightenment, or fulfilling dharma.  \\n   - **Buddhism:** Meaning arises from ending suffering (dukkha) through enlightenment (Nirvana) and compassion.  \\n\\n### 3. **Scientific Perspectives**  \\n   - **Evolutionary Biology:** Life’s \"purpose\" is survival and reproduction, but humans seek deeper significance beyond biology.  \\n   - **Cosmology:** In a vast, indifferent universe, meaning is a human construct—we give it value through curiosity, connection, and exploration.  \\n\\n### 4. **Personal Meaning**  \\n   Many find purpose in relationships, creativity, helping others, personal growth, or leaving a legacy. Viktor Frankl (Holocaust survivor) argued that meaning comes from suffering with dignity, love, and purposeful work.  \\n\\n### **A Practical Answer?**  \\nThere’s no single \"correct\" answer—it’s a personal journey. You might explore:  \\n- What brings you joy or fulfillment?  \\n- How do you impact others?  \\n- What legacy do you want to leave?  \\n\\nUltimately, the search for meaning *itself* may be part of the answer. What resonates with you?',\n",
       "    'refusal': None}}],\n",
       " 'usage': {'prompt_tokens': 10, 'completion_tokens': 418, 'total_tokens': 428}}"
      ]
     },
     "execution_count": 20,
     "metadata": {},
     "output_type": "execute_result"
    }
   ],
   "source": [
    "response_deepseek = deepseek_chat_v3_0324(\"What is the meaning of life?\")\n",
    "response_deepseek.json()"
   ]
  },
  {
   "cell_type": "markdown",
   "metadata": {},
   "source": [
    "## Google AI"
   ]
  },
  {
   "cell_type": "code",
   "execution_count": 15,
   "metadata": {},
   "outputs": [],
   "source": [
    "import base64\n",
    "import os\n",
    "\n",
    "from google import genai\n",
    "from google.genai import types"
   ]
  },
  {
   "cell_type": "code",
   "execution_count": 16,
   "metadata": {},
   "outputs": [],
   "source": [
    "def gemini_thinking(user_message: str) -> types.GenerateContentResponse:\n",
    "    \"\"\"\n",
    "    Génère une réponse du modèle Gemini et retourne la réponse brute complète\n",
    "    au lieu de l'afficher par morceaux.\n",
    "    \n",
    "    Args:\n",
    "        user_message: Le message utilisateur à envoyer au modèle\n",
    "        \n",
    "    Returns:\n",
    "        La réponse brute complète du modèle sous forme de chaîne de caractères\n",
    "    \"\"\"\n",
    "    client = genai.Client(\n",
    "        api_key=os.environ.get(\"GOOGLE_AI_API_KEY\"),\n",
    "    )\n",
    "\n",
    "    model = \"gemini-2.0-flash-thinking-exp-01-21\"  # \"gemini-2.5-pro-exp-03-25\"\n",
    "    contents = [\n",
    "        types.Content(\n",
    "            role=\"user\",\n",
    "            parts=[\n",
    "                types.Part.from_text(text=user_message),\n",
    "            ],\n",
    "        ),\n",
    "    ]\n",
    "    generate_content_config = types.GenerateContentConfig(\n",
    "        response_mime_type=\"text/plain\",\n",
    "    )\n",
    "\n",
    "    # Au lieu de streamer la réponse, on récupère la réponse complète\n",
    "    response = client.models.generate_content(\n",
    "        model=model,\n",
    "        contents=contents,\n",
    "        config=generate_content_config,\n",
    "    )\n",
    "    \n",
    "    # Retourne la réponse brute complète\n",
    "    return response\n"
   ]
  },
  {
   "cell_type": "code",
   "execution_count": 17,
   "metadata": {},
   "outputs": [
    {
     "data": {
      "text/plain": [
       "GenerateContentResponse(candidates=[Candidate(content=Content(parts=[Part(video_metadata=None, thought=None, code_execution_result=None, executable_code=None, file_data=None, function_call=None, function_response=None, inline_data=None, text='\"What is the meaning of life?\" is arguably the most fundamental and enduring question humans have asked.  And honestly, there\\'s **no single, universally accepted answer.**  That\\'s kind of the point – the meaning of life is deeply personal and subjective.\\n\\nHowever, we can explore different perspectives and ways to think about it.  Here\\'s a breakdown of common approaches and ideas:\\n\\n**1. The Nihilistic View: There is No Inherent Meaning**\\n\\n* **Core Idea:**  Life has no objective, pre-ordained purpose or meaning.  We are born, we live, we die, and that\\'s it in the grand cosmic scheme.\\n* **Implications:** This can be seen as depressing, but also liberating. If there\\'s no inherent meaning, you are free to create your own.\\n* **Examples:**  Some existentialist thinkers lean towards this initially, recognizing the \"absurdity\" of existence before advocating for creating meaning.\\n\\n**2. The Religious/Spiritual View: Meaning is Given by a Higher Power or Purpose**\\n\\n* **Core Idea:** Life\\'s meaning is derived from a divine source, a spiritual realm, or a grand cosmic plan.  This often involves serving a god, following religious teachings, or striving for enlightenment.\\n* **Implications:** Provides comfort, structure, and a sense of belonging. Meaning is often tied to morality, community, and the afterlife.\\n* **Examples:**  Christianity, Islam, Hinduism, Buddhism, many indigenous spiritual traditions.  Meaning is often found in faith, worship, service, and adherence to religious principles.\\n\\n**3. The Existentialist View: Meaning is Created by You**\\n\\n* **Core Idea:** We are born into a meaningless universe, but we have the freedom and responsibility to create our own meaning through our choices and actions.  Meaning is not found, but made.\\n* **Implications:**  Emphasizes personal responsibility, authenticity, and living in accordance with your values. Can be empowering but also demanding.\\n* **Examples:**  Albert Camus, Jean-Paul Sartre, Simone de Beauvoir.  Meaning is found in engaging with the world, making choices, and accepting the consequences of your freedom.\\n\\n**4. The Purpose-Driven View: Meaning is Found in Serving a Purpose**\\n\\n* **Core Idea:**  Life\\'s meaning is discovered by identifying and pursuing a purpose that is bigger than yourself.  This could be a career, a cause, a passion, or a contribution to society.\\n* **Implications:**  Provides direction, motivation, and a sense of accomplishment. Can be fulfilling but also lead to burnout if purpose becomes too narrowly defined.\\n* **Examples:**  Volunteering, activism, dedicating yourself to a craft, raising a family, working towards a specific goal.  Meaning is found in contribution and making a difference.\\n\\n**5. The Hedonistic View: Meaning is Found in Pleasure and Happiness**\\n\\n* **Core Idea:**  The goal of life is to maximize pleasure and minimize pain.  Meaning is found in experiencing joy, enjoyment, and positive sensations.\\n* **Implications:**  Can lead to a focus on immediate gratification and potentially neglect deeper fulfillment or responsibility.  However, appreciating joy and pleasure is definitely part of a balanced life.\\n* **Examples:**  Epicureanism, focusing on sensory experiences, enjoying relationships, pursuing hobbies.  Meaning is found in happiness and positive experiences.\\n\\n**6. The Stoic View: Meaning is Found in Virtue and Acceptance**\\n\\n* **Core Idea:**  Meaning is found in living a virtuous life, focusing on what you can control (your thoughts and actions), and accepting what you cannot (external events).  Inner peace and resilience are key.\\n* **Implications:**  Promotes emotional stability, resilience, and a focus on inner character rather than external validation. Can be helpful in navigating suffering and adversity.\\n* **Examples:**  Marcus Aurelius, Epictetus. Meaning is found in wisdom, justice, courage, temperance, and accepting the natural order of things.\\n\\n**7. The Humanistic View: Meaning is Found in Human Connection and Progress**\\n\\n* **Core Idea:**  Meaning is found in human relationships, compassion, reason, ethics, and working towards a better world for humanity.  Focus on human potential and flourishing.\\n* **Implications:**  Emphasizes social responsibility, empathy, and the importance of community. Can be inspiring and motivating to contribute to the collective good.\\n* **Examples:**  Humanitarian work, scientific advancement, artistic expression, building strong communities. Meaning is found in human connection, progress, and making the world a better place.\\n\\n**So, what *is* the meaning of *your* life?**\\n\\nThe answer is really up to you.  Here are some questions to consider as you explore your own meaning:\\n\\n* **What do you value?** What principles and ideals are important to you?\\n* **What brings you joy and fulfillment?** What activities and experiences make you feel alive and engaged?\\n* **What are you passionate about?** What issues or causes do you care deeply about?\\n* **What impact do you want to have on the world?** How do you want to be remembered?\\n* **What relationships are most important to you?** How do you nurture and strengthen those connections?\\n\\n**Ultimately, the meaning of life isn\\'t something you find pre-packaged. It\\'s something you create, discover, and evolve throughout your life.  It\\'s a journey of exploration, not a destination.**\\n\\nDon\\'t be afraid to experiment, to change your mind, and to define your own meaning. The very act of searching for meaning can be a meaningful endeavor in itself.')], role='model'), citation_metadata=None, finish_message=None, token_count=None, avg_logprobs=None, finish_reason=<FinishReason.STOP: 'STOP'>, grounding_metadata=None, index=0, logprobs_result=None, safety_ratings=None)], create_time=None, response_id=None, model_version='gemini-2.0-flash-thinking-exp-01-21', prompt_feedback=None, usage_metadata=GenerateContentResponseUsageMetadata(cached_content_token_count=None, candidates_token_count=1200, prompt_token_count=8, total_token_count=1208), automatic_function_calling_history=[], parsed=None)"
      ]
     },
     "execution_count": 17,
     "metadata": {},
     "output_type": "execute_result"
    }
   ],
   "source": [
    "response = gemini_thinking(\"What is the meaning of life?\")\n",
    "response"
   ]
  },
  {
   "cell_type": "code",
   "execution_count": 21,
   "metadata": {},
   "outputs": [
    {
     "data": {
      "text/plain": [
       "{'candidates': [{'content': {'parts': [{'text': '\"What is the meaning of life?\" is arguably the most fundamental and enduring question humans have asked.  And honestly, there\\'s **no single, universally accepted answer.**  That\\'s kind of the point – the meaning of life is deeply personal and subjective.\\n\\nHowever, we can explore different perspectives and ways to think about it.  Here\\'s a breakdown of common approaches and ideas:\\n\\n**1. The Nihilistic View: There is No Inherent Meaning**\\n\\n* **Core Idea:**  Life has no objective, pre-ordained purpose or meaning.  We are born, we live, we die, and that\\'s it in the grand cosmic scheme.\\n* **Implications:** This can be seen as depressing, but also liberating. If there\\'s no inherent meaning, you are free to create your own.\\n* **Examples:**  Some existentialist thinkers lean towards this initially, recognizing the \"absurdity\" of existence before advocating for creating meaning.\\n\\n**2. The Religious/Spiritual View: Meaning is Given by a Higher Power or Purpose**\\n\\n* **Core Idea:** Life\\'s meaning is derived from a divine source, a spiritual realm, or a grand cosmic plan.  This often involves serving a god, following religious teachings, or striving for enlightenment.\\n* **Implications:** Provides comfort, structure, and a sense of belonging. Meaning is often tied to morality, community, and the afterlife.\\n* **Examples:**  Christianity, Islam, Hinduism, Buddhism, many indigenous spiritual traditions.  Meaning is often found in faith, worship, service, and adherence to religious principles.\\n\\n**3. The Existentialist View: Meaning is Created by You**\\n\\n* **Core Idea:** We are born into a meaningless universe, but we have the freedom and responsibility to create our own meaning through our choices and actions.  Meaning is not found, but made.\\n* **Implications:**  Emphasizes personal responsibility, authenticity, and living in accordance with your values. Can be empowering but also demanding.\\n* **Examples:**  Albert Camus, Jean-Paul Sartre, Simone de Beauvoir.  Meaning is found in engaging with the world, making choices, and accepting the consequences of your freedom.\\n\\n**4. The Purpose-Driven View: Meaning is Found in Serving a Purpose**\\n\\n* **Core Idea:**  Life\\'s meaning is discovered by identifying and pursuing a purpose that is bigger than yourself.  This could be a career, a cause, a passion, or a contribution to society.\\n* **Implications:**  Provides direction, motivation, and a sense of accomplishment. Can be fulfilling but also lead to burnout if purpose becomes too narrowly defined.\\n* **Examples:**  Volunteering, activism, dedicating yourself to a craft, raising a family, working towards a specific goal.  Meaning is found in contribution and making a difference.\\n\\n**5. The Hedonistic View: Meaning is Found in Pleasure and Happiness**\\n\\n* **Core Idea:**  The goal of life is to maximize pleasure and minimize pain.  Meaning is found in experiencing joy, enjoyment, and positive sensations.\\n* **Implications:**  Can lead to a focus on immediate gratification and potentially neglect deeper fulfillment or responsibility.  However, appreciating joy and pleasure is definitely part of a balanced life.\\n* **Examples:**  Epicureanism, focusing on sensory experiences, enjoying relationships, pursuing hobbies.  Meaning is found in happiness and positive experiences.\\n\\n**6. The Stoic View: Meaning is Found in Virtue and Acceptance**\\n\\n* **Core Idea:**  Meaning is found in living a virtuous life, focusing on what you can control (your thoughts and actions), and accepting what you cannot (external events).  Inner peace and resilience are key.\\n* **Implications:**  Promotes emotional stability, resilience, and a focus on inner character rather than external validation. Can be helpful in navigating suffering and adversity.\\n* **Examples:**  Marcus Aurelius, Epictetus. Meaning is found in wisdom, justice, courage, temperance, and accepting the natural order of things.\\n\\n**7. The Humanistic View: Meaning is Found in Human Connection and Progress**\\n\\n* **Core Idea:**  Meaning is found in human relationships, compassion, reason, ethics, and working towards a better world for humanity.  Focus on human potential and flourishing.\\n* **Implications:**  Emphasizes social responsibility, empathy, and the importance of community. Can be inspiring and motivating to contribute to the collective good.\\n* **Examples:**  Humanitarian work, scientific advancement, artistic expression, building strong communities. Meaning is found in human connection, progress, and making the world a better place.\\n\\n**So, what *is* the meaning of *your* life?**\\n\\nThe answer is really up to you.  Here are some questions to consider as you explore your own meaning:\\n\\n* **What do you value?** What principles and ideals are important to you?\\n* **What brings you joy and fulfillment?** What activities and experiences make you feel alive and engaged?\\n* **What are you passionate about?** What issues or causes do you care deeply about?\\n* **What impact do you want to have on the world?** How do you want to be remembered?\\n* **What relationships are most important to you?** How do you nurture and strengthen those connections?\\n\\n**Ultimately, the meaning of life isn\\'t something you find pre-packaged. It\\'s something you create, discover, and evolve throughout your life.  It\\'s a journey of exploration, not a destination.**\\n\\nDon\\'t be afraid to experiment, to change your mind, and to define your own meaning. The very act of searching for meaning can be a meaningful endeavor in itself.'}],\n",
       "    'role': 'model'},\n",
       "   'finish_reason': 'STOP',\n",
       "   'index': 0}],\n",
       " 'model_version': 'gemini-2.0-flash-thinking-exp-01-21',\n",
       " 'usage_metadata': {'candidates_token_count': 1200,\n",
       "  'prompt_token_count': 8,\n",
       "  'total_token_count': 1208},\n",
       " 'automatic_function_calling_history': []}"
      ]
     },
     "execution_count": 21,
     "metadata": {},
     "output_type": "execute_result"
    }
   ],
   "source": [
    "response.to_json_dict()"
   ]
  }
 ],
 "metadata": {
  "kernelspec": {
   "display_name": "plu",
   "language": "python",
   "name": "python3"
  },
  "language_info": {
   "codemirror_mode": {
    "name": "ipython",
    "version": 3
   },
   "file_extension": ".py",
   "mimetype": "text/x-python",
   "name": "python",
   "nbconvert_exporter": "python",
   "pygments_lexer": "ipython3",
   "version": "3.12.9"
  }
 },
 "nbformat": 4,
 "nbformat_minor": 2
}
